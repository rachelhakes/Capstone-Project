{
  "nbformat": 4,
  "nbformat_minor": 0,
  "metadata": {
    "colab": {
      "provenance": [],
      "authorship_tag": "ABX9TyOrEb/r/wpSBaFkDZMTxXsZ",
      "include_colab_link": true
    },
    "kernelspec": {
      "name": "python3",
      "display_name": "Python 3"
    },
    "language_info": {
      "name": "python"
    }
  },
  "cells": [
    {
      "cell_type": "markdown",
      "metadata": {
        "id": "view-in-github",
        "colab_type": "text"
      },
      "source": [
        "<a href=\"https://colab.research.google.com/github/rachelhakes/Capstone-Project/blob/main/Image_Training_Testing_Checks.ipynb\" target=\"_parent\"><img src=\"https://colab.research.google.com/assets/colab-badge.svg\" alt=\"Open In Colab\"/></a>"
      ]
    },
    {
      "cell_type": "code",
      "execution_count": null,
      "metadata": {
        "colab": {
          "base_uri": "https://localhost:8080/"
        },
        "id": "anbDRIUQcR2b",
        "outputId": "47c8f221-e46c-4b32-ce87-3adc77789dec"
      },
      "outputs": [
        {
          "output_type": "stream",
          "name": "stdout",
          "text": [
            "Mounted at /content/gdrive\n"
          ]
        }
      ],
      "source": [
        "from google.colab import drive\n",
        "drive.mount('/content/gdrive')"
      ]
    },
    {
      "cell_type": "code",
      "source": [
        "# some_file.py\n",
        "import sys\n",
        "\n",
        "# insert at 1, 0 is the script path (or '' in REPL)\n",
        "sys.path.insert(1, '/content/gdrive/MyDrive/Project/LDL/code')"
      ],
      "metadata": {
        "id": "wt8Mf1wccu-L"
      },
      "execution_count": null,
      "outputs": []
    },
    {
      "cell_type": "code",
      "source": [
        "import numpy as np\n",
        "from utils.report import report_precision_se_sp_yi, report_mae_mse\n",
        "import pandas as pd"
      ],
      "metadata": {
        "id": "7iuIMN4GcY3Q"
      },
      "execution_count": null,
      "outputs": []
    },
    {
      "cell_type": "code",
      "source": [
        "# fix the indexing by 1"
      ],
      "metadata": {
        "id": "lwnoA0TKQDft"
      },
      "execution_count": null,
      "outputs": []
    },
    {
      "cell_type": "code",
      "source": [
        "test_data = np.loadtxt('/content/gdrive/MyDrive/Project/Detection/VOC2007/ImageSets/Main/NNEW_test_1.txt', dtype='str')"
      ],
      "metadata": {
        "id": "rM_SUWMrc5Gh"
      },
      "execution_count": null,
      "outputs": []
    },
    {
      "cell_type": "code",
      "source": [
        "test_data.shape"
      ],
      "metadata": {
        "colab": {
          "base_uri": "https://localhost:8080/"
        },
        "id": "9BVnwnC6d743",
        "outputId": "2bd52a00-351a-4a17-97ef-fe2a7589ed60"
      },
      "execution_count": null,
      "outputs": [
        {
          "output_type": "execute_result",
          "data": {
            "text/plain": [
              "(292, 3)"
            ]
          },
          "metadata": {},
          "execution_count": 6
        }
      ]
    },
    {
      "cell_type": "code",
      "source": [
        "test_data_df = pd.DataFrame(test_data)"
      ],
      "metadata": {
        "id": "1uYxY2RRSq0r"
      },
      "execution_count": null,
      "outputs": []
    },
    {
      "cell_type": "code",
      "source": [
        "test_data_df.columns = ['filename', 'class', 'counts']\n",
        "test_data_df"
      ],
      "metadata": {
        "colab": {
          "base_uri": "https://localhost:8080/",
          "height": 424
        },
        "id": "PoEuINSmS0jC",
        "outputId": "ffe21b35-bc79-4e70-b4f7-a88c0ebfc8b3"
      },
      "execution_count": null,
      "outputs": [
        {
          "output_type": "execute_result",
          "data": {
            "text/plain": [
              "           filename class counts\n",
              "0     levle0_60.jpg     0      1\n",
              "1    levle0_483.jpg     0      2\n",
              "2    levle0_110.jpg     0      2\n",
              "3    levle0_404.jpg     0      1\n",
              "4    levle0_155.jpg     0      1\n",
              "..              ...   ...    ...\n",
              "287   levle3_37.jpg     3     55\n",
              "288  levle3_109.jpg     3     52\n",
              "289   levle3_76.jpg     3     56\n",
              "290  levle3_113.jpg     3     64\n",
              "291   levle3_30.jpg     3     53\n",
              "\n",
              "[292 rows x 3 columns]"
            ],
            "text/html": [
              "\n",
              "  <div id=\"df-b103ff30-87ed-4137-b233-76cab1e8103f\">\n",
              "    <div class=\"colab-df-container\">\n",
              "      <div>\n",
              "<style scoped>\n",
              "    .dataframe tbody tr th:only-of-type {\n",
              "        vertical-align: middle;\n",
              "    }\n",
              "\n",
              "    .dataframe tbody tr th {\n",
              "        vertical-align: top;\n",
              "    }\n",
              "\n",
              "    .dataframe thead th {\n",
              "        text-align: right;\n",
              "    }\n",
              "</style>\n",
              "<table border=\"1\" class=\"dataframe\">\n",
              "  <thead>\n",
              "    <tr style=\"text-align: right;\">\n",
              "      <th></th>\n",
              "      <th>filename</th>\n",
              "      <th>class</th>\n",
              "      <th>counts</th>\n",
              "    </tr>\n",
              "  </thead>\n",
              "  <tbody>\n",
              "    <tr>\n",
              "      <th>0</th>\n",
              "      <td>levle0_60.jpg</td>\n",
              "      <td>0</td>\n",
              "      <td>1</td>\n",
              "    </tr>\n",
              "    <tr>\n",
              "      <th>1</th>\n",
              "      <td>levle0_483.jpg</td>\n",
              "      <td>0</td>\n",
              "      <td>2</td>\n",
              "    </tr>\n",
              "    <tr>\n",
              "      <th>2</th>\n",
              "      <td>levle0_110.jpg</td>\n",
              "      <td>0</td>\n",
              "      <td>2</td>\n",
              "    </tr>\n",
              "    <tr>\n",
              "      <th>3</th>\n",
              "      <td>levle0_404.jpg</td>\n",
              "      <td>0</td>\n",
              "      <td>1</td>\n",
              "    </tr>\n",
              "    <tr>\n",
              "      <th>4</th>\n",
              "      <td>levle0_155.jpg</td>\n",
              "      <td>0</td>\n",
              "      <td>1</td>\n",
              "    </tr>\n",
              "    <tr>\n",
              "      <th>...</th>\n",
              "      <td>...</td>\n",
              "      <td>...</td>\n",
              "      <td>...</td>\n",
              "    </tr>\n",
              "    <tr>\n",
              "      <th>287</th>\n",
              "      <td>levle3_37.jpg</td>\n",
              "      <td>3</td>\n",
              "      <td>55</td>\n",
              "    </tr>\n",
              "    <tr>\n",
              "      <th>288</th>\n",
              "      <td>levle3_109.jpg</td>\n",
              "      <td>3</td>\n",
              "      <td>52</td>\n",
              "    </tr>\n",
              "    <tr>\n",
              "      <th>289</th>\n",
              "      <td>levle3_76.jpg</td>\n",
              "      <td>3</td>\n",
              "      <td>56</td>\n",
              "    </tr>\n",
              "    <tr>\n",
              "      <th>290</th>\n",
              "      <td>levle3_113.jpg</td>\n",
              "      <td>3</td>\n",
              "      <td>64</td>\n",
              "    </tr>\n",
              "    <tr>\n",
              "      <th>291</th>\n",
              "      <td>levle3_30.jpg</td>\n",
              "      <td>3</td>\n",
              "      <td>53</td>\n",
              "    </tr>\n",
              "  </tbody>\n",
              "</table>\n",
              "<p>292 rows × 3 columns</p>\n",
              "</div>\n",
              "      <button class=\"colab-df-convert\" onclick=\"convertToInteractive('df-b103ff30-87ed-4137-b233-76cab1e8103f')\"\n",
              "              title=\"Convert this dataframe to an interactive table.\"\n",
              "              style=\"display:none;\">\n",
              "        \n",
              "  <svg xmlns=\"http://www.w3.org/2000/svg\" height=\"24px\"viewBox=\"0 0 24 24\"\n",
              "       width=\"24px\">\n",
              "    <path d=\"M0 0h24v24H0V0z\" fill=\"none\"/>\n",
              "    <path d=\"M18.56 5.44l.94 2.06.94-2.06 2.06-.94-2.06-.94-.94-2.06-.94 2.06-2.06.94zm-11 1L8.5 8.5l.94-2.06 2.06-.94-2.06-.94L8.5 2.5l-.94 2.06-2.06.94zm10 10l.94 2.06.94-2.06 2.06-.94-2.06-.94-.94-2.06-.94 2.06-2.06.94z\"/><path d=\"M17.41 7.96l-1.37-1.37c-.4-.4-.92-.59-1.43-.59-.52 0-1.04.2-1.43.59L10.3 9.45l-7.72 7.72c-.78.78-.78 2.05 0 2.83L4 21.41c.39.39.9.59 1.41.59.51 0 1.02-.2 1.41-.59l7.78-7.78 2.81-2.81c.8-.78.8-2.07 0-2.86zM5.41 20L4 18.59l7.72-7.72 1.47 1.35L5.41 20z\"/>\n",
              "  </svg>\n",
              "      </button>\n",
              "      \n",
              "  <style>\n",
              "    .colab-df-container {\n",
              "      display:flex;\n",
              "      flex-wrap:wrap;\n",
              "      gap: 12px;\n",
              "    }\n",
              "\n",
              "    .colab-df-convert {\n",
              "      background-color: #E8F0FE;\n",
              "      border: none;\n",
              "      border-radius: 50%;\n",
              "      cursor: pointer;\n",
              "      display: none;\n",
              "      fill: #1967D2;\n",
              "      height: 32px;\n",
              "      padding: 0 0 0 0;\n",
              "      width: 32px;\n",
              "    }\n",
              "\n",
              "    .colab-df-convert:hover {\n",
              "      background-color: #E2EBFA;\n",
              "      box-shadow: 0px 1px 2px rgba(60, 64, 67, 0.3), 0px 1px 3px 1px rgba(60, 64, 67, 0.15);\n",
              "      fill: #174EA6;\n",
              "    }\n",
              "\n",
              "    [theme=dark] .colab-df-convert {\n",
              "      background-color: #3B4455;\n",
              "      fill: #D2E3FC;\n",
              "    }\n",
              "\n",
              "    [theme=dark] .colab-df-convert:hover {\n",
              "      background-color: #434B5C;\n",
              "      box-shadow: 0px 1px 3px 1px rgba(0, 0, 0, 0.15);\n",
              "      filter: drop-shadow(0px 1px 2px rgba(0, 0, 0, 0.3));\n",
              "      fill: #FFFFFF;\n",
              "    }\n",
              "  </style>\n",
              "\n",
              "      <script>\n",
              "        const buttonEl =\n",
              "          document.querySelector('#df-b103ff30-87ed-4137-b233-76cab1e8103f button.colab-df-convert');\n",
              "        buttonEl.style.display =\n",
              "          google.colab.kernel.accessAllowed ? 'block' : 'none';\n",
              "\n",
              "        async function convertToInteractive(key) {\n",
              "          const element = document.querySelector('#df-b103ff30-87ed-4137-b233-76cab1e8103f');\n",
              "          const dataTable =\n",
              "            await google.colab.kernel.invokeFunction('convertToInteractive',\n",
              "                                                     [key], {});\n",
              "          if (!dataTable) return;\n",
              "\n",
              "          const docLinkHtml = 'Like what you see? Visit the ' +\n",
              "            '<a target=\"_blank\" href=https://colab.research.google.com/notebooks/data_table.ipynb>data table notebook</a>'\n",
              "            + ' to learn more about interactive tables.';\n",
              "          element.innerHTML = '';\n",
              "          dataTable['output_type'] = 'display_data';\n",
              "          await google.colab.output.renderOutput(dataTable, element);\n",
              "          const docLink = document.createElement('div');\n",
              "          docLink.innerHTML = docLinkHtml;\n",
              "          element.appendChild(docLink);\n",
              "        }\n",
              "      </script>\n",
              "    </div>\n",
              "  </div>\n",
              "  "
            ]
          },
          "metadata": {},
          "execution_count": 8
        }
      ]
    },
    {
      "cell_type": "code",
      "source": [
        "test_data_df = test_data_df[:-1]\n",
        "test_data_df"
      ],
      "metadata": {
        "colab": {
          "base_uri": "https://localhost:8080/",
          "height": 424
        },
        "id": "vtm18L3bQbJ3",
        "outputId": "36eb0ec3-fc49-4ea7-a45d-29a9ce1c6b18"
      },
      "execution_count": null,
      "outputs": [
        {
          "output_type": "execute_result",
          "data": {
            "text/plain": [
              "           filename class counts\n",
              "0     levle0_60.jpg     0      1\n",
              "1    levle0_483.jpg     0      2\n",
              "2    levle0_110.jpg     0      2\n",
              "3    levle0_404.jpg     0      1\n",
              "4    levle0_155.jpg     0      1\n",
              "..              ...   ...    ...\n",
              "286   levle3_83.jpg     3     51\n",
              "287   levle3_37.jpg     3     55\n",
              "288  levle3_109.jpg     3     52\n",
              "289   levle3_76.jpg     3     56\n",
              "290  levle3_113.jpg     3     64\n",
              "\n",
              "[291 rows x 3 columns]"
            ],
            "text/html": [
              "\n",
              "  <div id=\"df-a7832f1b-a29e-4972-9a9e-dc04591fa9a2\">\n",
              "    <div class=\"colab-df-container\">\n",
              "      <div>\n",
              "<style scoped>\n",
              "    .dataframe tbody tr th:only-of-type {\n",
              "        vertical-align: middle;\n",
              "    }\n",
              "\n",
              "    .dataframe tbody tr th {\n",
              "        vertical-align: top;\n",
              "    }\n",
              "\n",
              "    .dataframe thead th {\n",
              "        text-align: right;\n",
              "    }\n",
              "</style>\n",
              "<table border=\"1\" class=\"dataframe\">\n",
              "  <thead>\n",
              "    <tr style=\"text-align: right;\">\n",
              "      <th></th>\n",
              "      <th>filename</th>\n",
              "      <th>class</th>\n",
              "      <th>counts</th>\n",
              "    </tr>\n",
              "  </thead>\n",
              "  <tbody>\n",
              "    <tr>\n",
              "      <th>0</th>\n",
              "      <td>levle0_60.jpg</td>\n",
              "      <td>0</td>\n",
              "      <td>1</td>\n",
              "    </tr>\n",
              "    <tr>\n",
              "      <th>1</th>\n",
              "      <td>levle0_483.jpg</td>\n",
              "      <td>0</td>\n",
              "      <td>2</td>\n",
              "    </tr>\n",
              "    <tr>\n",
              "      <th>2</th>\n",
              "      <td>levle0_110.jpg</td>\n",
              "      <td>0</td>\n",
              "      <td>2</td>\n",
              "    </tr>\n",
              "    <tr>\n",
              "      <th>3</th>\n",
              "      <td>levle0_404.jpg</td>\n",
              "      <td>0</td>\n",
              "      <td>1</td>\n",
              "    </tr>\n",
              "    <tr>\n",
              "      <th>4</th>\n",
              "      <td>levle0_155.jpg</td>\n",
              "      <td>0</td>\n",
              "      <td>1</td>\n",
              "    </tr>\n",
              "    <tr>\n",
              "      <th>...</th>\n",
              "      <td>...</td>\n",
              "      <td>...</td>\n",
              "      <td>...</td>\n",
              "    </tr>\n",
              "    <tr>\n",
              "      <th>286</th>\n",
              "      <td>levle3_83.jpg</td>\n",
              "      <td>3</td>\n",
              "      <td>51</td>\n",
              "    </tr>\n",
              "    <tr>\n",
              "      <th>287</th>\n",
              "      <td>levle3_37.jpg</td>\n",
              "      <td>3</td>\n",
              "      <td>55</td>\n",
              "    </tr>\n",
              "    <tr>\n",
              "      <th>288</th>\n",
              "      <td>levle3_109.jpg</td>\n",
              "      <td>3</td>\n",
              "      <td>52</td>\n",
              "    </tr>\n",
              "    <tr>\n",
              "      <th>289</th>\n",
              "      <td>levle3_76.jpg</td>\n",
              "      <td>3</td>\n",
              "      <td>56</td>\n",
              "    </tr>\n",
              "    <tr>\n",
              "      <th>290</th>\n",
              "      <td>levle3_113.jpg</td>\n",
              "      <td>3</td>\n",
              "      <td>64</td>\n",
              "    </tr>\n",
              "  </tbody>\n",
              "</table>\n",
              "<p>291 rows × 3 columns</p>\n",
              "</div>\n",
              "      <button class=\"colab-df-convert\" onclick=\"convertToInteractive('df-a7832f1b-a29e-4972-9a9e-dc04591fa9a2')\"\n",
              "              title=\"Convert this dataframe to an interactive table.\"\n",
              "              style=\"display:none;\">\n",
              "        \n",
              "  <svg xmlns=\"http://www.w3.org/2000/svg\" height=\"24px\"viewBox=\"0 0 24 24\"\n",
              "       width=\"24px\">\n",
              "    <path d=\"M0 0h24v24H0V0z\" fill=\"none\"/>\n",
              "    <path d=\"M18.56 5.44l.94 2.06.94-2.06 2.06-.94-2.06-.94-.94-2.06-.94 2.06-2.06.94zm-11 1L8.5 8.5l.94-2.06 2.06-.94-2.06-.94L8.5 2.5l-.94 2.06-2.06.94zm10 10l.94 2.06.94-2.06 2.06-.94-2.06-.94-.94-2.06-.94 2.06-2.06.94z\"/><path d=\"M17.41 7.96l-1.37-1.37c-.4-.4-.92-.59-1.43-.59-.52 0-1.04.2-1.43.59L10.3 9.45l-7.72 7.72c-.78.78-.78 2.05 0 2.83L4 21.41c.39.39.9.59 1.41.59.51 0 1.02-.2 1.41-.59l7.78-7.78 2.81-2.81c.8-.78.8-2.07 0-2.86zM5.41 20L4 18.59l7.72-7.72 1.47 1.35L5.41 20z\"/>\n",
              "  </svg>\n",
              "      </button>\n",
              "      \n",
              "  <style>\n",
              "    .colab-df-container {\n",
              "      display:flex;\n",
              "      flex-wrap:wrap;\n",
              "      gap: 12px;\n",
              "    }\n",
              "\n",
              "    .colab-df-convert {\n",
              "      background-color: #E8F0FE;\n",
              "      border: none;\n",
              "      border-radius: 50%;\n",
              "      cursor: pointer;\n",
              "      display: none;\n",
              "      fill: #1967D2;\n",
              "      height: 32px;\n",
              "      padding: 0 0 0 0;\n",
              "      width: 32px;\n",
              "    }\n",
              "\n",
              "    .colab-df-convert:hover {\n",
              "      background-color: #E2EBFA;\n",
              "      box-shadow: 0px 1px 2px rgba(60, 64, 67, 0.3), 0px 1px 3px 1px rgba(60, 64, 67, 0.15);\n",
              "      fill: #174EA6;\n",
              "    }\n",
              "\n",
              "    [theme=dark] .colab-df-convert {\n",
              "      background-color: #3B4455;\n",
              "      fill: #D2E3FC;\n",
              "    }\n",
              "\n",
              "    [theme=dark] .colab-df-convert:hover {\n",
              "      background-color: #434B5C;\n",
              "      box-shadow: 0px 1px 3px 1px rgba(0, 0, 0, 0.15);\n",
              "      filter: drop-shadow(0px 1px 2px rgba(0, 0, 0, 0.3));\n",
              "      fill: #FFFFFF;\n",
              "    }\n",
              "  </style>\n",
              "\n",
              "      <script>\n",
              "        const buttonEl =\n",
              "          document.querySelector('#df-a7832f1b-a29e-4972-9a9e-dc04591fa9a2 button.colab-df-convert');\n",
              "        buttonEl.style.display =\n",
              "          google.colab.kernel.accessAllowed ? 'block' : 'none';\n",
              "\n",
              "        async function convertToInteractive(key) {\n",
              "          const element = document.querySelector('#df-a7832f1b-a29e-4972-9a9e-dc04591fa9a2');\n",
              "          const dataTable =\n",
              "            await google.colab.kernel.invokeFunction('convertToInteractive',\n",
              "                                                     [key], {});\n",
              "          if (!dataTable) return;\n",
              "\n",
              "          const docLinkHtml = 'Like what you see? Visit the ' +\n",
              "            '<a target=\"_blank\" href=https://colab.research.google.com/notebooks/data_table.ipynb>data table notebook</a>'\n",
              "            + ' to learn more about interactive tables.';\n",
              "          element.innerHTML = '';\n",
              "          dataTable['output_type'] = 'display_data';\n",
              "          await google.colab.output.renderOutput(dataTable, element);\n",
              "          const docLink = document.createElement('div');\n",
              "          docLink.innerHTML = docLinkHtml;\n",
              "          element.appendChild(docLink);\n",
              "        }\n",
              "      </script>\n",
              "    </div>\n",
              "  </div>\n",
              "  "
            ]
          },
          "metadata": {},
          "execution_count": 9
        }
      ]
    },
    {
      "cell_type": "code",
      "source": [
        "y_true = np.array([int(t[1]) for t in test_data][:-1])\n",
        "y_true"
      ],
      "metadata": {
        "colab": {
          "base_uri": "https://localhost:8080/"
        },
        "id": "fkkZZm8uecCm",
        "outputId": "28403f14-d2f2-424c-9ef9-5bf80b150d4f"
      },
      "execution_count": null,
      "outputs": [
        {
          "output_type": "execute_result",
          "data": {
            "text/plain": [
              "array([0, 0, 0, 0, 0, 0, 0, 0, 0, 0, 0, 0, 0, 0, 0, 0, 0, 0, 0, 0, 0, 0,\n",
              "       0, 0, 0, 0, 0, 0, 0, 0, 0, 0, 0, 0, 0, 0, 0, 0, 0, 0, 0, 0, 0, 0,\n",
              "       0, 0, 0, 0, 0, 0, 0, 0, 0, 0, 0, 0, 0, 0, 0, 0, 0, 0, 0, 0, 0, 0,\n",
              "       0, 0, 0, 0, 0, 0, 0, 0, 0, 0, 0, 0, 0, 0, 0, 0, 0, 0, 0, 0, 0, 0,\n",
              "       0, 0, 0, 0, 0, 0, 0, 0, 0, 0, 0, 0, 0, 0, 0, 1, 1, 1, 1, 1, 1, 1,\n",
              "       1, 1, 1, 1, 1, 1, 1, 1, 1, 1, 1, 1, 1, 1, 1, 1, 1, 1, 1, 1, 1, 1,\n",
              "       1, 1, 1, 1, 1, 1, 1, 1, 1, 1, 1, 1, 1, 1, 1, 1, 1, 1, 1, 1, 1, 1,\n",
              "       1, 1, 1, 1, 1, 1, 1, 1, 1, 1, 1, 1, 1, 1, 1, 1, 1, 1, 1, 1, 1, 1,\n",
              "       1, 1, 1, 1, 1, 1, 1, 1, 1, 1, 1, 1, 1, 1, 1, 1, 1, 1, 1, 1, 1, 1,\n",
              "       1, 1, 1, 1, 1, 1, 1, 1, 1, 1, 1, 1, 1, 1, 1, 1, 1, 1, 1, 1, 1, 1,\n",
              "       1, 1, 1, 1, 1, 1, 1, 1, 1, 1, 2, 2, 2, 2, 2, 2, 2, 2, 2, 2, 2, 2,\n",
              "       2, 2, 2, 2, 2, 2, 2, 2, 2, 2, 2, 2, 2, 2, 2, 2, 2, 2, 2, 2, 2, 2,\n",
              "       2, 2, 3, 3, 3, 3, 3, 3, 3, 3, 3, 3, 3, 3, 3, 3, 3, 3, 3, 3, 3, 3,\n",
              "       3, 3, 3, 3, 3])"
            ]
          },
          "metadata": {},
          "execution_count": 10
        }
      ]
    },
    {
      "cell_type": "code",
      "source": [
        "y_count_true = np.array([int(t[2]) for t in test_data][:-1])\n",
        "y_count_true"
      ],
      "metadata": {
        "colab": {
          "base_uri": "https://localhost:8080/"
        },
        "id": "R9su-2unIKtu",
        "outputId": "a3775bf8-8db1-460b-b30a-e499cc2fc8a9"
      },
      "execution_count": null,
      "outputs": [
        {
          "output_type": "execute_result",
          "data": {
            "text/plain": [
              "array([ 1,  2,  2,  1,  1,  1,  3,  1,  1,  1,  2,  1,  1,  2,  4,  3,  3,\n",
              "        2,  2,  2,  2,  3,  3,  1,  2,  2,  4,  3,  5,  1,  2,  2,  4,  1,\n",
              "        3,  3,  2,  2,  4,  2,  2,  1,  2,  2,  2,  3,  1,  1,  3,  2,  3,\n",
              "        2,  3,  2,  3,  2,  1,  1,  1,  1,  1,  2,  2,  1,  2,  1,  2,  1,\n",
              "        2,  1,  3,  1,  3,  1,  1,  2,  2,  5,  2,  3,  3,  1,  3,  2,  3,\n",
              "        4,  2,  1,  2,  1,  3,  1,  2,  1,  2,  1,  4,  1,  2,  1,  1,  1,\n",
              "        2,  9,  6, 14, 10,  9, 19, 10,  7,  6, 13, 17, 12,  6, 11,  6,  6,\n",
              "        8,  7,  6, 17,  9,  7,  9,  9,  9,  6, 12,  7,  7,  7,  9,  8,  7,\n",
              "        7, 12, 11, 10,  6,  6,  6,  8,  8,  8,  8,  7, 10, 15,  7,  9,  8,\n",
              "        8, 10,  9,  6,  6, 12, 10,  7,  7,  6,  9,  8, 10, 10, 11,  9,  8,\n",
              "       10,  6,  9,  7, 11,  8,  6,  6, 17,  9,  8,  8,  6, 10,  7,  9,  9,\n",
              "        8,  7,  6,  9, 10, 12,  8,  9,  6, 14,  7,  6,  7,  8,  7,  8, 14,\n",
              "        8,  9, 15,  6,  8,  8, 11,  9, 14,  9,  8, 10,  8,  6,  7,  6,  7,\n",
              "        7,  6, 10, 17,  6,  6, 10, 11,  7, 21, 21, 42, 38, 21, 27, 26, 33,\n",
              "       27, 21, 24, 21, 21, 21, 38, 23, 25, 22, 32, 36, 21, 23, 24, 35, 21,\n",
              "       30, 25, 25, 24, 21, 29, 24, 25, 26, 32, 21, 59, 65, 59, 53, 53, 60,\n",
              "       52, 56, 53, 65, 51, 64, 53, 51, 54, 64, 59, 58, 51, 61, 51, 55, 52,\n",
              "       56, 64])"
            ]
          },
          "metadata": {},
          "execution_count": 11
        }
      ]
    },
    {
      "cell_type": "markdown",
      "source": [
        "# Load resnet152, 101, 50, and 34 image class and counts results"
      ],
      "metadata": {
        "id": "mXw7T5fpLHZg"
      }
    },
    {
      "cell_type": "code",
      "source": [
        "y_preds, y_preds_count, y_preds_count2cls = np.load('/content/gdrive/MyDrive/Project/image classes and counts/counts-class-resnet152.npy', allow_pickle=True)\n",
        "y_preds1, y_preds_count1, y_preds_count2cls1 = np.load('/content/gdrive/MyDrive/Project/image classes and counts/counts-class-resnet101.npy', allow_pickle=True)\n",
        "y_preds2, y_preds_count2, y_preds_count2cls2 = np.load('/content/gdrive/MyDrive/Project/image classes and counts/counts-class-resnet50.npy', allow_pickle=True)\n",
        "y_preds3, y_preds_count3, y_preds_count2cls3 = np.load('/content/gdrive/MyDrive/Project/image classes and counts/counts-class-resnet34.npy', allow_pickle=True)"
      ],
      "metadata": {
        "id": "eSN1Y5-xcdUn"
      },
      "execution_count": null,
      "outputs": []
    },
    {
      "cell_type": "markdown",
      "source": [
        "##resnet152"
      ],
      "metadata": {
        "id": "DLUYNIqPLP2X"
      }
    },
    {
      "cell_type": "code",
      "source": [
        "y_preds_values = np.array([y.item() for y in y_preds][1:])\n",
        "y_preds_values"
      ],
      "metadata": {
        "colab": {
          "base_uri": "https://localhost:8080/"
        },
        "id": "Q2ZnQVxFSRMV",
        "outputId": "f385d459-7402-472c-f56b-1ed5f5048f30"
      },
      "execution_count": null,
      "outputs": [
        {
          "output_type": "execute_result",
          "data": {
            "text/plain": [
              "array([0, 0, 0, 0, 0, 1, 0, 0, 0, 0, 0, 0, 0, 1, 0, 0, 0, 1, 1, 0, 0, 1,\n",
              "       0, 0, 0, 0, 0, 1, 0, 0, 0, 0, 0, 0, 0, 0, 0, 0, 0, 0, 0, 0, 0, 0,\n",
              "       0, 0, 0, 0, 0, 1, 0, 0, 0, 0, 0, 0, 0, 0, 0, 0, 0, 0, 0, 1, 0, 0,\n",
              "       0, 0, 0, 1, 0, 0, 0, 0, 0, 0, 0, 0, 0, 0, 0, 0, 0, 0, 0, 0, 0, 0,\n",
              "       0, 0, 0, 0, 0, 0, 0, 1, 0, 0, 0, 0, 0, 0, 1, 0, 1, 1, 1, 1, 1, 0,\n",
              "       0, 1, 1, 1, 1, 1, 0, 0, 1, 1, 1, 1, 1, 1, 1, 1, 1, 1, 2, 1, 1, 1,\n",
              "       1, 1, 1, 0, 1, 1, 1, 1, 0, 0, 1, 2, 1, 1, 1, 1, 1, 1, 1, 1, 1, 1,\n",
              "       1, 1, 1, 1, 1, 1, 0, 1, 1, 1, 1, 1, 1, 1, 1, 1, 1, 1, 1, 1, 0, 1,\n",
              "       1, 1, 1, 1, 1, 0, 1, 1, 1, 2, 1, 0, 1, 1, 1, 1, 1, 1, 1, 1, 1, 0,\n",
              "       1, 1, 1, 1, 1, 1, 1, 1, 0, 1, 1, 1, 1, 1, 1, 1, 1, 1, 1, 1, 0, 1,\n",
              "       1, 1, 1, 1, 1, 0, 1, 1, 0, 2, 2, 3, 2, 1, 1, 2, 2, 1, 1, 1, 1, 2,\n",
              "       2, 2, 2, 1, 2, 1, 2, 1, 1, 2, 3, 2, 2, 2, 2, 2, 2, 2, 3, 2, 1, 2,\n",
              "       1, 3, 3, 3, 3, 3, 3, 3, 2, 3, 3, 3, 3, 3, 2, 3, 3, 3, 3, 3, 3, 3,\n",
              "       3, 3, 3, 3, 3])"
            ]
          },
          "metadata": {},
          "execution_count": 13
        }
      ]
    },
    {
      "cell_type": "code",
      "source": [
        "y_preds_count_values = np.array([y.item() for y in y_preds_count][1:])\n",
        "y_preds_count_values"
      ],
      "metadata": {
        "colab": {
          "base_uri": "https://localhost:8080/"
        },
        "id": "CqyvPYsOH4-0",
        "outputId": "e01d7248-484e-40d0-b805-832638f7f641"
      },
      "execution_count": null,
      "outputs": [
        {
          "output_type": "execute_result",
          "data": {
            "text/plain": [
              "array([ 2,  0,  0,  0,  1,  5,  2,  1,  1,  3,  0,  0,  2,  6,  2,  5,  2,\n",
              "        7,  5,  0,  1,  5,  0,  5,  0,  5,  0,  5,  1,  1,  2,  2,  0,  5,\n",
              "        1,  2,  0,  2,  0,  0,  0,  0,  2,  2,  1,  0,  2,  1,  2,  6,  0,\n",
              "        2,  1,  1,  1,  0,  0,  1,  1,  1,  2,  2,  0,  7,  0,  1,  0,  2,\n",
              "        1,  5,  0,  3,  0,  1,  1,  2,  4,  3,  2,  3,  0,  1,  1,  3,  0,\n",
              "        2,  0,  1,  1,  3,  3,  0,  2,  1,  0,  5,  1,  1,  0,  0,  0,  0,\n",
              "        7,  3, 10,  5,  9, 13,  8,  2,  2,  9, 19, 10,  6,  8,  3,  2,  5,\n",
              "        5,  6,  8,  8,  5,  8,  6,  7,  8, 19,  6,  5,  5,  6,  8,  7,  5,\n",
              "        9,  6,  7,  7,  5,  0,  8, 20,  6,  8,  8,  7, 13,  7,  5,  9,  6,\n",
              "       12,  8,  5,  7, 13, 10,  7,  2,  7,  9,  7, 11,  7,  8,  5,  6, 11,\n",
              "        6, 10,  8, 10,  3,  9,  7, 10,  8,  7,  8,  5,  8, 10,  7, 23,  7,\n",
              "        3,  5,  9,  8, 19,  9,  6,  6,  8,  6,  3,  6,  6, 10,  8,  8,  8,\n",
              "       10, 19,  4,  7,  7,  6,  6, 11,  9,  5, 19,  5,  8,  5,  2,  7,  6,\n",
              "        7,  8, 10,  6,  5,  7, 17,  1, 22, 22, 60, 24,  8, 10, 24, 26,  7,\n",
              "       13,  9, 19, 21, 25, 25, 21, 20, 27, 19, 32,  7, 19, 20, 62, 22, 22,\n",
              "       22, 22, 26, 21, 19, 63, 29, 19, 22, 12, 61, 61, 62, 62, 61, 60, 61,\n",
              "       31, 63, 59, 62, 62, 60, 29, 60, 62, 62, 59, 54, 62, 62, 61, 60, 57,\n",
              "       53, 62])"
            ]
          },
          "metadata": {},
          "execution_count": 14
        }
      ]
    },
    {
      "cell_type": "code",
      "source": [
        "y_preds_count2cls_values = np.array([y.item() for y in y_preds_count2cls][1:])\n",
        "y_preds_count2cls_values"
      ],
      "metadata": {
        "colab": {
          "base_uri": "https://localhost:8080/"
        },
        "id": "AFm0nWWjJ8Bu",
        "outputId": "0302ded3-3116-4140-9119-1e216bf80902"
      },
      "execution_count": null,
      "outputs": [
        {
          "output_type": "execute_result",
          "data": {
            "text/plain": [
              "array([0, 0, 0, 0, 0, 1, 0, 0, 0, 0, 0, 0, 0, 1, 0, 0, 0, 1, 1, 0, 0, 1,\n",
              "       0, 1, 0, 0, 0, 1, 0, 0, 0, 0, 0, 1, 0, 0, 0, 0, 0, 0, 0, 0, 0, 0,\n",
              "       0, 0, 0, 0, 0, 1, 0, 0, 0, 0, 0, 0, 0, 0, 0, 0, 0, 0, 0, 1, 0, 0,\n",
              "       0, 0, 0, 1, 0, 0, 0, 0, 0, 0, 0, 0, 0, 0, 0, 0, 0, 0, 0, 0, 0, 0,\n",
              "       0, 0, 0, 0, 0, 0, 0, 1, 0, 0, 0, 0, 0, 0, 1, 0, 1, 1, 1, 1, 1, 0,\n",
              "       0, 1, 1, 1, 1, 1, 0, 0, 1, 1, 1, 1, 1, 1, 1, 1, 1, 1, 2, 1, 1, 1,\n",
              "       1, 1, 1, 0, 1, 1, 1, 1, 1, 0, 1, 2, 1, 1, 1, 1, 1, 1, 1, 1, 1, 1,\n",
              "       1, 1, 1, 1, 1, 1, 0, 1, 1, 1, 1, 1, 1, 1, 1, 1, 1, 1, 1, 1, 0, 1,\n",
              "       1, 1, 1, 1, 1, 1, 1, 1, 1, 2, 1, 0, 1, 1, 1, 1, 1, 1, 1, 1, 1, 0,\n",
              "       1, 1, 1, 1, 1, 1, 1, 1, 1, 1, 1, 1, 1, 1, 1, 1, 1, 1, 1, 1, 0, 1,\n",
              "       1, 1, 1, 1, 1, 1, 1, 1, 0, 2, 2, 3, 2, 1, 1, 2, 2, 1, 1, 1, 1, 2,\n",
              "       2, 2, 2, 2, 2, 1, 2, 1, 1, 2, 3, 2, 2, 2, 2, 2, 2, 2, 3, 2, 1, 2,\n",
              "       1, 3, 3, 3, 3, 3, 3, 3, 2, 3, 3, 3, 3, 3, 2, 3, 3, 3, 3, 3, 3, 3,\n",
              "       3, 3, 3, 3, 3])"
            ]
          },
          "metadata": {},
          "execution_count": 15
        }
      ]
    },
    {
      "cell_type": "markdown",
      "source": [
        "##resnet101"
      ],
      "metadata": {
        "id": "awOq8-rlLUkM"
      }
    },
    {
      "cell_type": "code",
      "source": [
        "y_preds_values1 = np.array([y.item() for y in y_preds1][1:])\n",
        "y_preds_values1"
      ],
      "metadata": {
        "colab": {
          "base_uri": "https://localhost:8080/"
        },
        "id": "946arakxLUYq",
        "outputId": "1e4667b0-6a80-4fe6-81b7-65110ca37290"
      },
      "execution_count": null,
      "outputs": [
        {
          "output_type": "execute_result",
          "data": {
            "text/plain": [
              "array([0, 0, 0, 0, 0, 1, 0, 0, 0, 0, 0, 0, 0, 1, 0, 0, 0, 1, 0, 0, 0, 1,\n",
              "       0, 0, 0, 0, 0, 1, 0, 0, 1, 0, 0, 0, 0, 0, 0, 0, 0, 0, 0, 0, 0, 0,\n",
              "       0, 0, 0, 0, 0, 1, 0, 0, 0, 0, 0, 0, 0, 0, 0, 0, 0, 0, 0, 1, 0, 0,\n",
              "       0, 0, 0, 0, 0, 0, 0, 0, 0, 0, 0, 0, 0, 0, 0, 0, 0, 1, 0, 0, 0, 0,\n",
              "       0, 0, 0, 0, 0, 0, 0, 1, 0, 0, 0, 0, 0, 0, 1, 0, 1, 1, 1, 1, 1, 1,\n",
              "       0, 1, 1, 1, 0, 1, 0, 0, 0, 1, 1, 1, 1, 0, 1, 1, 1, 1, 1, 1, 1, 0,\n",
              "       1, 1, 1, 1, 1, 1, 1, 1, 0, 0, 1, 1, 1, 1, 1, 1, 1, 1, 1, 1, 1, 1,\n",
              "       1, 1, 1, 1, 1, 1, 1, 1, 1, 1, 1, 1, 1, 0, 1, 1, 0, 1, 1, 1, 0, 1,\n",
              "       1, 1, 1, 1, 1, 0, 1, 1, 1, 1, 1, 0, 0, 1, 1, 1, 1, 1, 0, 1, 1, 0,\n",
              "       1, 1, 1, 1, 1, 1, 1, 1, 0, 1, 1, 1, 1, 1, 1, 0, 1, 1, 1, 1, 0, 1,\n",
              "       0, 1, 1, 1, 1, 0, 1, 1, 0, 2, 1, 3, 2, 1, 1, 2, 2, 1, 1, 1, 1, 2,\n",
              "       2, 2, 2, 1, 2, 1, 2, 1, 1, 2, 3, 1, 2, 2, 2, 2, 1, 2, 3, 2, 1, 2,\n",
              "       1, 3, 2, 3, 3, 3, 3, 3, 2, 3, 3, 3, 3, 3, 3, 3, 3, 3, 3, 3, 3, 3,\n",
              "       3, 3, 3, 3, 3])"
            ]
          },
          "metadata": {},
          "execution_count": 16
        }
      ]
    },
    {
      "cell_type": "code",
      "source": [
        "y_preds_count_values1 = np.array([y.item() for y in y_preds_count1][1:])\n",
        "y_preds_count_values1"
      ],
      "metadata": {
        "colab": {
          "base_uri": "https://localhost:8080/"
        },
        "id": "xPmKOMPeLTzy",
        "outputId": "58191816-f676-4520-a44a-df0b18fec8a0"
      },
      "execution_count": null,
      "outputs": [
        {
          "output_type": "execute_result",
          "data": {
            "text/plain": [
              "array([ 2,  0,  0,  1,  1,  5,  1,  0,  1,  2,  1,  1,  2,  6,  2,  1,  1,\n",
              "        5,  1,  0,  2,  5,  0,  3,  0,  3,  1,  4,  1,  2,  6,  1,  0,  2,\n",
              "        1,  2,  0,  3,  0,  0,  1,  1,  1,  1,  1,  1,  1,  1,  0,  5,  1,\n",
              "        1,  1,  1,  1,  0,  1,  2,  1,  1,  1,  1,  0,  6,  1,  1,  1,  1,\n",
              "        0,  4,  1,  2,  0,  1,  1,  1,  3,  1,  3,  2,  1,  1,  1,  4,  0,\n",
              "        2,  1,  1,  1,  1,  3,  1,  1,  1,  1,  6,  1,  2,  0,  0,  0,  0,\n",
              "        7,  2, 10,  4,  7, 13,  7,  4,  2,  8, 19, 11,  4,  7,  3,  2,  2,\n",
              "        5,  7,  8,  8,  4,  7,  4,  6,  7, 13,  6,  4,  3,  5,  7,  7,  5,\n",
              "        9,  5,  4,  6,  1,  0,  7, 18,  6,  8,  7,  7, 12,  7,  5,  8,  4,\n",
              "       11,  7,  3,  6, 12,  8,  4,  4,  6,  7,  6,  4,  7,  8,  4,  6, 11,\n",
              "        4, 10,  8, 11,  3,  9,  7, 11,  8,  6,  9,  3,  7, 10,  8,  8,  4,\n",
              "        2,  3,  9,  7, 14,  8,  7,  3,  8,  6,  1,  6,  5, 11,  8, 10,  7,\n",
              "        8,  9,  2,  7,  7,  6,  6,  9, 10,  3, 16,  6,  6,  6,  1,  5,  4,\n",
              "        4,  9, 11,  7,  4,  7, 14,  1, 24,  7, 63, 26, 10,  9, 25, 24,  9,\n",
              "       16,  7, 17, 21, 26, 24, 22, 19, 25, 17, 34,  7, 10, 22, 62, 23, 28,\n",
              "       22, 22, 27, 11, 21, 52, 25, 21, 25, 12, 62, 31, 63, 62, 60, 63, 62,\n",
              "       31, 62, 62, 61, 55, 62, 54, 61, 60, 61, 62, 54, 62, 61, 61, 61, 62,\n",
              "       54, 55])"
            ]
          },
          "metadata": {},
          "execution_count": 17
        }
      ]
    },
    {
      "cell_type": "code",
      "source": [
        "y_preds_count2cls_values1 = np.array([y.item() for y in y_preds_count2cls1][1:])\n",
        "y_preds_count2cls_values1"
      ],
      "metadata": {
        "colab": {
          "base_uri": "https://localhost:8080/"
        },
        "id": "n_YErC4RLijA",
        "outputId": "688d014e-63cc-4bc4-92ed-d165d6de5204"
      },
      "execution_count": null,
      "outputs": [
        {
          "output_type": "execute_result",
          "data": {
            "text/plain": [
              "array([0, 0, 0, 0, 0, 1, 0, 0, 0, 0, 0, 0, 0, 1, 0, 0, 0, 1, 0, 0, 0, 1,\n",
              "       0, 0, 0, 0, 0, 1, 0, 0, 1, 0, 0, 0, 0, 0, 0, 0, 0, 0, 0, 0, 0, 0,\n",
              "       0, 0, 0, 0, 0, 1, 0, 0, 0, 0, 0, 0, 0, 0, 0, 0, 0, 0, 0, 1, 0, 0,\n",
              "       0, 0, 0, 0, 0, 0, 0, 0, 0, 0, 0, 0, 0, 0, 0, 0, 0, 0, 0, 0, 0, 0,\n",
              "       0, 0, 0, 0, 0, 0, 0, 1, 0, 0, 0, 0, 0, 0, 1, 0, 1, 1, 1, 1, 1, 0,\n",
              "       0, 1, 1, 1, 0, 1, 0, 0, 0, 1, 1, 1, 1, 0, 1, 1, 1, 1, 1, 1, 0, 0,\n",
              "       1, 1, 1, 1, 1, 1, 1, 1, 0, 0, 1, 1, 1, 1, 1, 1, 1, 1, 1, 1, 1, 1,\n",
              "       1, 0, 1, 1, 1, 1, 1, 1, 1, 1, 0, 1, 1, 0, 1, 1, 0, 1, 1, 1, 0, 1,\n",
              "       1, 1, 1, 1, 1, 0, 1, 1, 1, 1, 1, 0, 0, 1, 1, 1, 1, 1, 0, 1, 1, 0,\n",
              "       1, 1, 1, 1, 1, 1, 1, 1, 0, 1, 1, 1, 1, 1, 1, 0, 1, 1, 1, 1, 0, 1,\n",
              "       0, 1, 1, 1, 1, 0, 1, 1, 0, 2, 1, 3, 2, 1, 1, 2, 2, 1, 1, 1, 1, 2,\n",
              "       2, 2, 2, 1, 2, 1, 2, 1, 1, 2, 3, 2, 2, 2, 2, 2, 1, 2, 3, 2, 1, 2,\n",
              "       1, 3, 2, 3, 3, 3, 3, 3, 2, 3, 3, 3, 3, 3, 3, 3, 3, 3, 3, 3, 3, 3,\n",
              "       3, 3, 3, 3, 3])"
            ]
          },
          "metadata": {},
          "execution_count": 18
        }
      ]
    },
    {
      "cell_type": "markdown",
      "source": [
        "## resnet 50"
      ],
      "metadata": {
        "id": "9dNrZXyZOicE"
      }
    },
    {
      "cell_type": "code",
      "source": [
        "y_preds_values2 = np.array([y.item() for y in y_preds2][1:])\n",
        "y_preds_values2"
      ],
      "metadata": {
        "colab": {
          "base_uri": "https://localhost:8080/"
        },
        "id": "iR7ClUbXOmH6",
        "outputId": "c387bb88-bd71-44d6-8ab0-e08a45a7b064"
      },
      "execution_count": null,
      "outputs": [
        {
          "output_type": "execute_result",
          "data": {
            "text/plain": [
              "array([0, 0, 0, 0, 0, 1, 0, 0, 0, 0, 0, 0, 0, 1, 0, 0, 0, 0, 0, 0, 0, 0,\n",
              "       0, 0, 0, 1, 0, 1, 0, 0, 0, 0, 0, 0, 0, 0, 0, 0, 0, 0, 0, 0, 0, 0,\n",
              "       0, 0, 0, 0, 0, 1, 0, 0, 0, 0, 0, 0, 0, 0, 1, 0, 0, 0, 0, 1, 0, 0,\n",
              "       0, 0, 0, 1, 0, 0, 0, 0, 0, 0, 0, 0, 0, 0, 0, 0, 0, 1, 0, 0, 0, 0,\n",
              "       0, 0, 0, 0, 0, 0, 0, 1, 0, 0, 0, 0, 0, 0, 1, 0, 1, 1, 1, 1, 1, 0,\n",
              "       0, 1, 2, 1, 1, 1, 0, 0, 0, 1, 1, 1, 1, 1, 1, 1, 1, 1, 1, 1, 1, 1,\n",
              "       1, 1, 1, 1, 1, 1, 1, 1, 1, 0, 1, 1, 1, 1, 1, 1, 1, 1, 0, 1, 1, 1,\n",
              "       1, 0, 1, 1, 1, 1, 0, 1, 1, 1, 1, 1, 1, 1, 1, 1, 1, 1, 1, 1, 0, 1,\n",
              "       1, 1, 1, 1, 1, 1, 1, 1, 1, 1, 1, 0, 0, 2, 1, 2, 1, 1, 0, 1, 1, 0,\n",
              "       1, 1, 1, 1, 1, 1, 1, 1, 0, 1, 1, 1, 0, 1, 1, 1, 2, 1, 1, 0, 0, 1,\n",
              "       0, 1, 1, 1, 1, 1, 1, 1, 0, 2, 1, 3, 2, 1, 1, 2, 2, 2, 2, 1, 2, 2,\n",
              "       2, 2, 2, 2, 2, 1, 2, 1, 1, 2, 3, 2, 2, 2, 2, 2, 1, 2, 3, 2, 1, 2,\n",
              "       1, 3, 2, 3, 3, 2, 3, 3, 2, 3, 3, 3, 3, 3, 3, 3, 3, 3, 3, 3, 3, 3,\n",
              "       3, 3, 3, 3, 3])"
            ]
          },
          "metadata": {},
          "execution_count": 19
        }
      ]
    },
    {
      "cell_type": "code",
      "source": [
        "y_preds_count_values2 = np.array([y.item() for y in y_preds_count2][1:])\n",
        "y_preds_count_values2"
      ],
      "metadata": {
        "colab": {
          "base_uri": "https://localhost:8080/"
        },
        "id": "z-Nvt8chOpmY",
        "outputId": "4cc9bb3e-53c5-41d8-f1a3-0ba7323a4abb"
      },
      "execution_count": null,
      "outputs": [
        {
          "output_type": "execute_result",
          "data": {
            "text/plain": [
              "array([ 3,  0,  1,  0,  3,  8,  1,  1,  2,  2,  1,  1,  4,  6,  3,  2,  1,\n",
              "        3,  5,  1,  1,  3,  0,  3,  0,  5,  1,  4,  2,  3,  3,  3,  1,  4,\n",
              "        1,  2,  2,  3,  0,  0,  1,  1,  2,  1,  4,  1,  2,  1,  1,  5,  2,\n",
              "        1,  1,  1,  2,  0,  1,  2,  5,  1,  3,  1,  1,  6,  1,  0,  1,  3,\n",
              "        1,  6,  1,  3,  0,  1,  2,  2,  3,  4,  3,  4,  0,  1,  2,  6,  0,\n",
              "        4,  1,  1,  2,  4,  3,  1,  4,  1,  1,  6,  1,  3,  0,  0,  0,  1,\n",
              "        8,  4,  9,  6,  6, 17,  7,  2,  3,  9, 22, 11,  5,  8,  3,  1,  4,\n",
              "        5,  7,  7,  7,  6,  8,  7,  8,  7, 17,  6,  4,  4,  6,  9,  7,  6,\n",
              "        9,  5,  7,  8,  5,  1,  7, 18,  6,  8,  8,  7,  9,  6,  4,  8,  6,\n",
              "       11,  7,  4,  7, 12, 10,  6,  3,  6,  8,  6,  4,  6,  8,  4,  5, 10,\n",
              "        7, 10,  9, 11,  4,  9,  7,  9, 10,  4,  8,  6,  8,  8,  8,  7,  7,\n",
              "        4,  3, 21,  7, 21,  8,  6,  3,  7,  7,  1,  7,  7,  9,  9, 12,  9,\n",
              "        7, 10,  4,  7,  8,  6,  4, 10,  9,  4, 20,  6,  6,  4,  1,  6,  4,\n",
              "        7, 11, 16,  6,  4,  7, 17,  1, 23, 19, 54, 26, 22,  8, 26, 27, 23,\n",
              "       21,  7, 21, 21, 25, 26, 19, 22, 27, 20, 33,  7, 19, 22, 59, 23, 29,\n",
              "       22, 25, 25, 20, 21, 54, 24, 22, 27, 10, 62, 32, 53, 61, 52, 53, 54,\n",
              "       61, 63, 61, 61, 62, 62, 63, 62, 60, 61, 62, 62, 62, 62, 61, 61, 63,\n",
              "       53, 54])"
            ]
          },
          "metadata": {},
          "execution_count": 20
        }
      ]
    },
    {
      "cell_type": "code",
      "source": [
        "y_preds_count2cls_values2 = np.array([y.item() for y in y_preds_count2cls2][1:])\n",
        "y_preds_count2cls_values2"
      ],
      "metadata": {
        "colab": {
          "base_uri": "https://localhost:8080/"
        },
        "id": "ctAs6sFHOsHO",
        "outputId": "a1de233e-d339-4ed7-e1f8-ebf2d07b45e3"
      },
      "execution_count": null,
      "outputs": [
        {
          "output_type": "execute_result",
          "data": {
            "text/plain": [
              "array([0, 0, 0, 0, 0, 1, 0, 0, 0, 0, 0, 0, 0, 1, 0, 0, 0, 0, 1, 0, 0, 0,\n",
              "       0, 0, 0, 1, 0, 1, 0, 0, 0, 0, 0, 0, 0, 0, 0, 0, 0, 0, 0, 0, 0, 0,\n",
              "       0, 0, 0, 0, 0, 1, 0, 0, 0, 0, 0, 0, 0, 0, 1, 0, 0, 0, 0, 1, 0, 0,\n",
              "       0, 0, 0, 1, 0, 0, 0, 0, 0, 0, 0, 0, 0, 1, 0, 0, 0, 1, 0, 0, 0, 0,\n",
              "       0, 1, 0, 0, 0, 0, 0, 1, 0, 0, 0, 0, 0, 0, 1, 0, 1, 1, 1, 1, 1, 0,\n",
              "       0, 1, 2, 1, 1, 1, 0, 0, 0, 1, 1, 1, 1, 1, 1, 1, 1, 1, 1, 1, 0, 1,\n",
              "       1, 1, 1, 1, 1, 1, 1, 1, 1, 0, 1, 1, 1, 1, 1, 1, 1, 1, 0, 1, 1, 1,\n",
              "       1, 0, 1, 1, 1, 1, 0, 1, 1, 1, 1, 1, 1, 1, 1, 1, 1, 1, 1, 1, 0, 1,\n",
              "       1, 1, 1, 1, 1, 1, 1, 1, 1, 1, 1, 0, 0, 2, 1, 2, 1, 1, 0, 1, 1, 0,\n",
              "       1, 1, 1, 1, 1, 1, 1, 1, 0, 1, 1, 1, 0, 1, 1, 1, 2, 1, 1, 1, 0, 1,\n",
              "       0, 1, 1, 1, 1, 1, 1, 1, 0, 2, 1, 3, 2, 2, 1, 2, 2, 2, 2, 1, 2, 2,\n",
              "       2, 2, 1, 2, 2, 2, 2, 1, 1, 2, 3, 2, 2, 2, 2, 2, 1, 2, 3, 2, 2, 2,\n",
              "       1, 3, 2, 3, 3, 2, 3, 3, 3, 3, 3, 3, 3, 3, 3, 3, 3, 3, 3, 3, 3, 3,\n",
              "       3, 3, 3, 3, 3])"
            ]
          },
          "metadata": {},
          "execution_count": 21
        }
      ]
    },
    {
      "cell_type": "markdown",
      "source": [
        "## resnet 34"
      ],
      "metadata": {
        "id": "-kDG2kWCOwDb"
      }
    },
    {
      "cell_type": "code",
      "source": [
        "y_preds_values3 = np.array([y.item() for y in y_preds3][1:])\n",
        "y_preds_values3"
      ],
      "metadata": {
        "colab": {
          "base_uri": "https://localhost:8080/"
        },
        "id": "hqREEEFcOyJO",
        "outputId": "36da5360-d358-40d1-957f-8fe4aeb416b3"
      },
      "execution_count": null,
      "outputs": [
        {
          "output_type": "execute_result",
          "data": {
            "text/plain": [
              "array([0, 0, 0, 0, 0, 0, 0, 0, 0, 0, 0, 0, 0, 1, 0, 0, 0, 0, 0, 0, 0, 0,\n",
              "       0, 0, 0, 0, 0, 0, 0, 0, 0, 0, 0, 0, 0, 0, 0, 0, 0, 0, 0, 0, 0, 0,\n",
              "       0, 0, 0, 0, 0, 0, 0, 0, 0, 0, 0, 0, 0, 0, 0, 0, 0, 0, 0, 1, 0, 0,\n",
              "       0, 0, 0, 0, 0, 0, 0, 0, 0, 0, 0, 0, 0, 0, 0, 0, 0, 1, 0, 0, 0, 0,\n",
              "       0, 0, 0, 0, 0, 0, 0, 0, 0, 0, 0, 0, 0, 0, 1, 0, 1, 1, 1, 1, 1, 0,\n",
              "       0, 1, 1, 1, 0, 1, 0, 0, 0, 1, 0, 1, 1, 0, 1, 1, 1, 1, 1, 0, 0, 1,\n",
              "       0, 1, 1, 1, 1, 1, 1, 0, 0, 0, 1, 1, 1, 1, 1, 1, 1, 0, 0, 1, 1, 1,\n",
              "       1, 0, 1, 1, 1, 1, 0, 0, 1, 1, 1, 1, 1, 0, 1, 1, 0, 1, 1, 1, 1, 1,\n",
              "       1, 1, 1, 1, 1, 0, 1, 1, 1, 1, 0, 1, 0, 1, 1, 1, 1, 1, 0, 1, 0, 0,\n",
              "       1, 1, 1, 1, 1, 1, 1, 1, 0, 1, 1, 1, 0, 1, 1, 0, 1, 0, 1, 1, 0, 0,\n",
              "       0, 0, 1, 1, 1, 1, 1, 1, 0, 2, 2, 2, 2, 2, 2, 2, 2, 1, 2, 1, 2, 1,\n",
              "       1, 2, 2, 1, 2, 2, 2, 1, 1, 2, 2, 2, 2, 2, 2, 2, 1, 1, 2, 2, 2, 2,\n",
              "       1, 3, 2, 3, 3, 3, 2, 3, 2, 3, 3, 3, 3, 3, 2, 3, 2, 3, 3, 3, 3, 3,\n",
              "       3, 3, 3, 3, 2])"
            ]
          },
          "metadata": {},
          "execution_count": 22
        }
      ]
    },
    {
      "cell_type": "code",
      "source": [
        "y_preds_count_values3 = np.array([y.item() for y in y_preds_count3][1:])\n",
        "y_preds_count_values3"
      ],
      "metadata": {
        "colab": {
          "base_uri": "https://localhost:8080/"
        },
        "id": "d2GlaHDMO0oh",
        "outputId": "d0dca93b-5364-4e77-f5ee-c4cce9c16a28"
      },
      "execution_count": null,
      "outputs": [
        {
          "output_type": "execute_result",
          "data": {
            "text/plain": [
              "array([ 1,  1,  1,  1,  1,  3,  2,  1,  1,  2,  1,  1,  1,  6,  1,  2,  1,\n",
              "        5,  2,  1,  1,  5,  0,  2,  0,  2,  1,  5,  1,  1,  2,  1,  1,  2,\n",
              "        1,  1,  1,  2,  1,  1,  1,  0,  1,  1,  3,  1,  1,  1,  1,  2,  1,\n",
              "        0,  1,  1,  1,  1,  1,  1,  1,  0,  2,  1,  1,  6,  1,  1,  1,  2,\n",
              "        1,  5,  1,  1,  1,  1,  1,  1,  3,  5,  3,  1,  0,  1,  1,  6,  0,\n",
              "        1,  0,  1,  2,  2,  2,  1,  1,  1,  0,  2,  1,  0,  1,  1,  0,  1,\n",
              "        7,  5,  9,  4,  6, 15,  7,  3,  2,  8, 19, 10,  5,  6,  1,  1,  4,\n",
              "        6,  5,  8,  7,  5,  7,  5,  5,  8, 11,  5,  4,  5,  4,  6,  6,  5,\n",
              "        8,  7,  6,  3,  3,  1,  6,  7,  5,  7,  6,  6,  8,  5,  4,  8,  6,\n",
              "       10,  6,  3,  5,  9,  8,  5,  2,  5,  6,  6,  6,  5,  9,  2,  5,  8,\n",
              "        3,  8,  6,  9,  5,  6,  6,  8,  8,  5,  8,  4,  6,  6,  7,  6,  4,\n",
              "        5,  2,  7, 19, 10,  8,  5,  5,  9,  4,  1,  7,  5, 10,  7,  8,  7,\n",
              "        7,  7,  2,  6,  7,  6,  4,  9,  7,  5, 10,  5,  7,  5,  2,  4,  4,\n",
              "        5,  8, 11,  5,  5,  7, 10,  2, 21, 21, 27, 22, 22, 21, 24, 21,  8,\n",
              "       21,  7, 21, 17, 19, 22, 21, 19, 23, 23, 27,  6, 21, 21, 61, 22, 21,\n",
              "       21, 21, 21, 10, 20, 23, 22, 22, 24, 19, 61, 31, 52, 54, 61, 29, 53,\n",
              "       33, 51, 62, 55, 53, 53, 52, 53, 62, 60, 60, 54, 59, 53, 54, 55, 54,\n",
              "       60, 26])"
            ]
          },
          "metadata": {},
          "execution_count": 23
        }
      ]
    },
    {
      "cell_type": "code",
      "source": [
        "y_preds_count2cls_values3 = np.array([y.item() for y in y_preds_count2cls3][1:])\n",
        "y_preds_count2cls_values3"
      ],
      "metadata": {
        "colab": {
          "base_uri": "https://localhost:8080/"
        },
        "id": "sY2aR9qbO17T",
        "outputId": "708604c8-a5d0-4584-8da2-d5dd00d37957"
      },
      "execution_count": null,
      "outputs": [
        {
          "output_type": "execute_result",
          "data": {
            "text/plain": [
              "array([0, 0, 0, 0, 0, 0, 0, 0, 0, 0, 0, 0, 0, 1, 0, 0, 0, 0, 0, 0, 0, 1,\n",
              "       0, 0, 0, 0, 0, 1, 0, 0, 0, 0, 0, 0, 0, 0, 0, 0, 0, 0, 0, 0, 0, 0,\n",
              "       0, 0, 0, 0, 0, 0, 0, 0, 0, 0, 0, 0, 0, 0, 0, 0, 0, 0, 0, 1, 0, 0,\n",
              "       0, 0, 0, 1, 0, 0, 0, 0, 0, 0, 0, 0, 0, 0, 0, 0, 0, 1, 0, 0, 0, 0,\n",
              "       0, 0, 0, 0, 0, 0, 0, 0, 0, 0, 0, 0, 0, 0, 1, 0, 1, 1, 1, 1, 1, 0,\n",
              "       0, 1, 1, 1, 1, 1, 0, 0, 0, 1, 1, 1, 1, 1, 1, 1, 1, 1, 1, 0, 1, 1,\n",
              "       0, 1, 1, 1, 1, 1, 1, 0, 0, 0, 1, 1, 1, 1, 1, 1, 1, 1, 0, 1, 1, 1,\n",
              "       1, 0, 1, 1, 1, 1, 0, 0, 1, 1, 1, 1, 1, 0, 1, 1, 0, 1, 1, 1, 1, 1,\n",
              "       1, 1, 1, 1, 1, 0, 1, 1, 1, 1, 0, 1, 0, 1, 1, 1, 1, 1, 1, 1, 1, 0,\n",
              "       1, 1, 1, 1, 1, 1, 1, 1, 0, 1, 1, 1, 1, 1, 1, 1, 1, 1, 1, 1, 0, 0,\n",
              "       0, 1, 1, 1, 1, 1, 1, 1, 0, 2, 2, 2, 2, 2, 2, 2, 2, 1, 2, 1, 2, 1,\n",
              "       1, 2, 2, 1, 2, 2, 2, 1, 2, 2, 3, 2, 2, 2, 2, 2, 1, 2, 2, 2, 2, 2,\n",
              "       1, 3, 2, 3, 3, 3, 2, 3, 2, 3, 3, 3, 3, 3, 2, 3, 3, 3, 3, 3, 3, 3,\n",
              "       3, 3, 3, 3, 2])"
            ]
          },
          "metadata": {},
          "execution_count": 24
        }
      ]
    },
    {
      "cell_type": "markdown",
      "source": [
        "## classification resnet 152"
      ],
      "metadata": {
        "id": "0X31WDzgLnIt"
      }
    },
    {
      "cell_type": "code",
      "source": [
        "from sklearn.metrics import confusion_matrix, classification_report"
      ],
      "metadata": {
        "id": "UACpIhjfTuOP"
      },
      "execution_count": null,
      "outputs": []
    },
    {
      "cell_type": "code",
      "source": [
        "## comparing class to y_pred class in resnet152\n",
        "_, _, pre_se_sp_yi_report = report_precision_se_sp_yi(y_preds_values, y_true)\n",
        "print(pre_se_sp_yi_report)"
      ],
      "metadata": {
        "colab": {
          "base_uri": "https://localhost:8080/"
        },
        "id": "ttZ7ayAze1zA",
        "outputId": "db74fdcc-b661-4b0d-c8cc-de06208ac6bd"
      },
      "execution_count": null,
      "outputs": [
        {
          "output_type": "stream",
          "name": "stdout",
          "text": [
            "            Precision        SE        SP        YI\n",
            "     class0    0.8440    0.8932    0.9096    0.8028\n",
            "     class1    0.8217    0.8346    0.8598    0.6944\n",
            "     class2    0.7692    0.5556    0.9765    0.5320\n",
            "     class3    0.8519    0.9200    0.9850    0.9050\n",
            "avg / total    0.8217    0.8009    0.9327    0.7335\n",
            "              AVE_ACC           0.8282\n",
            "\n"
          ]
        }
      ]
    },
    {
      "cell_type": "code",
      "source": [
        "## comparing class to y_pred class in resnet152\n",
        "print(confusion_matrix(y_true, y_preds_values))"
      ],
      "metadata": {
        "colab": {
          "base_uri": "https://localhost:8080/"
        },
        "id": "5-slnIr-T5w8",
        "outputId": "cfb9e821-8c96-4013-a7d1-acba6935668c"
      },
      "execution_count": null,
      "outputs": [
        {
          "output_type": "stream",
          "name": "stdout",
          "text": [
            "[[ 92  11   0   0]\n",
            " [ 17 106   4   0]\n",
            " [  0  12  20   4]\n",
            " [  0   0   2  23]]\n"
          ]
        }
      ]
    },
    {
      "cell_type": "code",
      "source": [
        "## comparing class to count2cls in resnet 152\n",
        "_, _, pre_se_sp_yi_report = report_precision_se_sp_yi(y_preds_values, y_preds_count2cls_values)\n",
        "print(pre_se_sp_yi_report)"
      ],
      "metadata": {
        "colab": {
          "base_uri": "https://localhost:8080/"
        },
        "id": "s75vHzPmKEyt",
        "outputId": "c3848526-f615-4ef1-bcb6-b5526ece5286"
      },
      "execution_count": null,
      "outputs": [
        {
          "output_type": "stream",
          "name": "stdout",
          "text": [
            "            Precision        SE        SP        YI\n",
            "     class0    0.9450    1.0000    0.9681    0.9681\n",
            "     class1    0.9922    0.9552    0.9936    0.9489\n",
            "     class2    1.0000    0.9630    1.0000    0.9630\n",
            "     class3    1.0000    1.0000    1.0000    1.0000\n",
            "avg / total    0.9843    0.9795    0.9904    0.9700\n",
            "              AVE_ACC           0.9759\n",
            "\n"
          ]
        }
      ]
    },
    {
      "cell_type": "code",
      "source": [
        "## comparing class to count2cls in resnet 152\n",
        "print(confusion_matrix(y_preds_values, y_preds_count2cls_values))"
      ],
      "metadata": {
        "colab": {
          "base_uri": "https://localhost:8080/"
        },
        "id": "6jt-PKDiKIVD",
        "outputId": "3f691468-8c46-455e-ab5d-de521a0607a2"
      },
      "execution_count": null,
      "outputs": [
        {
          "output_type": "stream",
          "name": "stdout",
          "text": [
            "[[103   6   0   0]\n",
            " [  0 128   1   0]\n",
            " [  0   0  26   0]\n",
            " [  0   0   0  27]]\n"
          ]
        }
      ]
    },
    {
      "cell_type": "markdown",
      "source": [
        "## classification resnet 101\n"
      ],
      "metadata": {
        "id": "uRP0OlyrLq9N"
      }
    },
    {
      "cell_type": "code",
      "source": [
        "## comparing class to y_pred class in resnet101\n",
        "_, _, pre_se_sp_yi_report = report_precision_se_sp_yi(y_preds_values1, y_true)\n",
        "print(pre_se_sp_yi_report)"
      ],
      "metadata": {
        "colab": {
          "base_uri": "https://localhost:8080/"
        },
        "id": "zLjUP5oULwtz",
        "outputId": "ef4f6fc8-9ca2-45cd-b2d7-90f9b83f1c83"
      },
      "execution_count": null,
      "outputs": [
        {
          "output_type": "stream",
          "name": "stdout",
          "text": [
            "            Precision        SE        SP        YI\n",
            "     class0    0.7931    0.8932    0.8723    0.7655\n",
            "     class1    0.7969    0.8031    0.8415    0.6446\n",
            "     class2    0.8500    0.4722    0.9882    0.4605\n",
            "     class3    0.8519    0.9200    0.9850    0.9050\n",
            "avg / total    0.8230    0.7721    0.9218    0.6939\n",
            "              AVE_ACC           0.8041\n",
            "\n"
          ]
        }
      ]
    },
    {
      "cell_type": "code",
      "source": [
        "## comparing class to y_pred class in resnet101\n",
        "print(confusion_matrix(y_true, y_preds_values1))"
      ],
      "metadata": {
        "colab": {
          "base_uri": "https://localhost:8080/"
        },
        "id": "0Zv9ZIdEL07N",
        "outputId": "32ffd515-08f3-4719-cfd2-d236c38a06af"
      },
      "execution_count": null,
      "outputs": [
        {
          "output_type": "stream",
          "name": "stdout",
          "text": [
            "[[ 92  11   0   0]\n",
            " [ 24 102   1   0]\n",
            " [  0  15  17   4]\n",
            " [  0   0   2  23]]\n"
          ]
        }
      ]
    },
    {
      "cell_type": "code",
      "source": [
        "## comparing class to count2cls in resnet 101\n",
        "_, _, pre_se_sp_yi_report = report_precision_se_sp_yi(y_preds_values1, y_preds_count2cls_values1)\n",
        "print(pre_se_sp_yi_report)"
      ],
      "metadata": {
        "colab": {
          "base_uri": "https://localhost:8080/"
        },
        "id": "7niGk3UgL7A4",
        "outputId": "bea70585-2e86-445c-f975-2e430a1282f6"
      },
      "execution_count": null,
      "outputs": [
        {
          "output_type": "stream",
          "name": "stdout",
          "text": [
            "            Precision        SE        SP        YI\n",
            "     class0    1.0000    0.9587    1.0000    0.9587\n",
            "     class1    0.9531    1.0000    0.9645    0.9645\n",
            "     class2    1.0000    0.9524    1.0000    0.9524\n",
            "     class3    1.0000    1.0000    1.0000    1.0000\n",
            "avg / total    0.9883    0.9778    0.9911    0.9689\n",
            "              AVE_ACC           0.9794\n",
            "\n"
          ]
        }
      ]
    },
    {
      "cell_type": "code",
      "source": [
        "## comparing class to count2cls in resnet 101\n",
        "print(confusion_matrix(y_preds_values1, y_preds_count2cls_values1))"
      ],
      "metadata": {
        "colab": {
          "base_uri": "https://localhost:8080/"
        },
        "id": "UCLya2_9L-3z",
        "outputId": "f96e1e7b-5639-471f-a638-35ba7593ca9e"
      },
      "execution_count": null,
      "outputs": [
        {
          "output_type": "stream",
          "name": "stdout",
          "text": [
            "[[116   0   0   0]\n",
            " [  5 122   1   0]\n",
            " [  0   0  20   0]\n",
            " [  0   0   0  27]]\n"
          ]
        }
      ]
    },
    {
      "cell_type": "markdown",
      "source": [
        "## classification resnet 50"
      ],
      "metadata": {
        "id": "SeF-sprhO-uB"
      }
    },
    {
      "cell_type": "code",
      "source": [
        "## comparing class to y_pred class in resnet50\n",
        "_, _, pre_se_sp_yi_report = report_precision_se_sp_yi(y_preds_values2, y_true)\n",
        "print(pre_se_sp_yi_report)"
      ],
      "metadata": {
        "colab": {
          "base_uri": "https://localhost:8080/"
        },
        "id": "L06N7LxpPDao",
        "outputId": "9a882593-4538-4e4c-fedb-83087f630bb9"
      },
      "execution_count": null,
      "outputs": [
        {
          "output_type": "stream",
          "name": "stdout",
          "text": [
            "            Precision        SE        SP        YI\n",
            "     class0    0.8142    0.8932    0.8883    0.7815\n",
            "     class1    0.8279    0.7953    0.8720    0.6672\n",
            "     class2    0.7333    0.6111    0.9686    0.5797\n",
            "     class3    0.8462    0.8800    0.9850    0.8650\n",
            "avg / total    0.8054    0.7949    0.9285    0.7234\n",
            "              AVE_ACC           0.8144\n",
            "\n"
          ]
        }
      ]
    },
    {
      "cell_type": "code",
      "source": [
        "## comparing class to y_pred class in resnet50\n",
        "print(confusion_matrix(y_true, y_preds_values2))"
      ],
      "metadata": {
        "colab": {
          "base_uri": "https://localhost:8080/"
        },
        "id": "tI71ARzJPGYY",
        "outputId": "54025954-aa6b-4ee5-ed61-d6e4c1131dcc"
      },
      "execution_count": null,
      "outputs": [
        {
          "output_type": "stream",
          "name": "stdout",
          "text": [
            "[[ 92  11   0   0]\n",
            " [ 21 101   5   0]\n",
            " [  0  10  22   4]\n",
            " [  0   0   3  22]]\n"
          ]
        }
      ]
    },
    {
      "cell_type": "code",
      "source": [
        "## comparing class to count2cls in resnet 50\n",
        "_, _, pre_se_sp_yi_report = report_precision_se_sp_yi(y_preds_values2, y_preds_count2cls_values2)\n",
        "print(pre_se_sp_yi_report)"
      ],
      "metadata": {
        "colab": {
          "base_uri": "https://localhost:8080/"
        },
        "id": "hncKF6LpPLC7",
        "outputId": "1c06730e-09f2-4c2c-bd2d-e85293ea3107"
      },
      "execution_count": null,
      "outputs": [
        {
          "output_type": "stream",
          "name": "stdout",
          "text": [
            "            Precision        SE        SP        YI\n",
            "     class0    0.9646    0.9909    0.9779    0.9688\n",
            "     class1    0.9672    0.9593    0.9762    0.9355\n",
            "     class2    0.9333    0.9032    0.9923    0.8955\n",
            "     class3    1.0000    0.9630    1.0000    0.9630\n",
            "avg / total    0.9663    0.9541    0.9866    0.9407\n",
            "              AVE_ACC           0.9656\n",
            "\n"
          ]
        }
      ]
    },
    {
      "cell_type": "code",
      "source": [
        "## comparing class to count2cls in resnet 50\n",
        "print(confusion_matrix(y_preds_values2, y_preds_count2cls_values2))"
      ],
      "metadata": {
        "colab": {
          "base_uri": "https://localhost:8080/"
        },
        "id": "niIsCY71PNo5",
        "outputId": "d58f9120-7324-4d6c-b1f7-c16ba6d17ac6"
      },
      "execution_count": null,
      "outputs": [
        {
          "output_type": "stream",
          "name": "stdout",
          "text": [
            "[[109   4   0   0]\n",
            " [  1 118   3   0]\n",
            " [  0   1  28   1]\n",
            " [  0   0   0  26]]\n"
          ]
        }
      ]
    },
    {
      "cell_type": "markdown",
      "source": [
        "## classification resnet 34"
      ],
      "metadata": {
        "id": "rMQq5XigPBQC"
      }
    },
    {
      "cell_type": "code",
      "source": [
        "## comparing class to y_pred class in resnet34\n",
        "_, _, pre_se_sp_yi_report = report_precision_se_sp_yi(y_preds_values3, y_true)\n",
        "print(pre_se_sp_yi_report)"
      ],
      "metadata": {
        "colab": {
          "base_uri": "https://localhost:8080/"
        },
        "id": "SmJNaMrcPHwG",
        "outputId": "77e6bea4-3ecc-4e93-e24b-326064f3eca6"
      },
      "execution_count": null,
      "outputs": [
        {
          "output_type": "stream",
          "name": "stdout",
          "text": [
            "            Precision        SE        SP        YI\n",
            "     class0    0.7279    0.9612    0.8032    0.7644\n",
            "     class1    0.8641    0.7008    0.9146    0.6154\n",
            "     class2    0.7812    0.6944    0.9725    0.6670\n",
            "     class3    0.9500    0.7600    0.9962    0.7562\n",
            "avg / total    0.8308    0.7791    0.9217    0.7008\n",
            "              AVE_ACC           0.7973\n",
            "\n"
          ]
        }
      ]
    },
    {
      "cell_type": "code",
      "source": [
        "## comparing class to y_pred class in resnet34\n",
        "print(confusion_matrix(y_true, y_preds_values3))"
      ],
      "metadata": {
        "colab": {
          "base_uri": "https://localhost:8080/"
        },
        "id": "fvrxGCSLPHF_",
        "outputId": "35a4d7c6-102d-49b9-e720-546f85c76f34"
      },
      "execution_count": null,
      "outputs": [
        {
          "output_type": "stream",
          "name": "stdout",
          "text": [
            "[[99  4  0  0]\n",
            " [37 89  1  0]\n",
            " [ 0 10 25  1]\n",
            " [ 0  0  6 19]]\n"
          ]
        }
      ]
    },
    {
      "cell_type": "code",
      "source": [
        "## comparing class to count2cls in resnet 34\n",
        "_, _, pre_se_sp_yi_report = report_precision_se_sp_yi(y_preds_values3, y_preds_count2cls_values3)\n",
        "print(pre_se_sp_yi_report)"
      ],
      "metadata": {
        "colab": {
          "base_uri": "https://localhost:8080/"
        },
        "id": "7YqkJs5cPL7J",
        "outputId": "dd9fb4b8-00a4-4807-a223-bc114494ce4b"
      },
      "execution_count": null,
      "outputs": [
        {
          "output_type": "stream",
          "name": "stdout",
          "text": [
            "            Precision        SE        SP        YI\n",
            "     class0    0.8971    1.0000    0.9172    0.9172\n",
            "     class1    0.9806    0.8783    0.9886    0.8669\n",
            "     class2    0.9375    0.9375    0.9923    0.9298\n",
            "     class3    1.0000    0.9091    1.0000    0.9091\n",
            "avg / total    0.9538    0.9312    0.9745    0.9057\n",
            "              AVE_ACC           0.9381\n",
            "\n"
          ]
        }
      ]
    },
    {
      "cell_type": "code",
      "source": [
        "## comparing class to count2cls in resnet 34\n",
        "print(confusion_matrix(y_preds_values3, y_preds_count2cls_values3))"
      ],
      "metadata": {
        "colab": {
          "base_uri": "https://localhost:8080/"
        },
        "id": "dDlaM0PpPOkH",
        "outputId": "26d210d2-6055-4e36-b080-2325d78b3390"
      },
      "execution_count": null,
      "outputs": [
        {
          "output_type": "stream",
          "name": "stdout",
          "text": [
            "[[122  14   0   0]\n",
            " [  0 101   2   0]\n",
            " [  0   0  30   2]\n",
            " [  0   0   0  20]]\n"
          ]
        }
      ]
    },
    {
      "cell_type": "markdown",
      "source": [
        "# Make the DataFrame"
      ],
      "metadata": {
        "id": "Vse1wuIfRQDn"
      }
    },
    {
      "cell_type": "code",
      "source": [
        "test_data_df"
      ],
      "metadata": {
        "colab": {
          "base_uri": "https://localhost:8080/",
          "height": 424
        },
        "id": "gnTfNqRTPJQ-",
        "outputId": "181f3ff7-0092-4915-bd57-6d6f9f84ad64"
      },
      "execution_count": null,
      "outputs": [
        {
          "output_type": "execute_result",
          "data": {
            "text/plain": [
              "           filename class counts\n",
              "0     levle0_60.jpg     0      1\n",
              "1    levle0_483.jpg     0      2\n",
              "2    levle0_110.jpg     0      2\n",
              "3    levle0_404.jpg     0      1\n",
              "4    levle0_155.jpg     0      1\n",
              "..              ...   ...    ...\n",
              "286   levle3_83.jpg     3     51\n",
              "287   levle3_37.jpg     3     55\n",
              "288  levle3_109.jpg     3     52\n",
              "289   levle3_76.jpg     3     56\n",
              "290  levle3_113.jpg     3     64\n",
              "\n",
              "[291 rows x 3 columns]"
            ],
            "text/html": [
              "\n",
              "  <div id=\"df-95535adf-72b3-4ec0-bc98-4cbb33db377b\">\n",
              "    <div class=\"colab-df-container\">\n",
              "      <div>\n",
              "<style scoped>\n",
              "    .dataframe tbody tr th:only-of-type {\n",
              "        vertical-align: middle;\n",
              "    }\n",
              "\n",
              "    .dataframe tbody tr th {\n",
              "        vertical-align: top;\n",
              "    }\n",
              "\n",
              "    .dataframe thead th {\n",
              "        text-align: right;\n",
              "    }\n",
              "</style>\n",
              "<table border=\"1\" class=\"dataframe\">\n",
              "  <thead>\n",
              "    <tr style=\"text-align: right;\">\n",
              "      <th></th>\n",
              "      <th>filename</th>\n",
              "      <th>class</th>\n",
              "      <th>counts</th>\n",
              "    </tr>\n",
              "  </thead>\n",
              "  <tbody>\n",
              "    <tr>\n",
              "      <th>0</th>\n",
              "      <td>levle0_60.jpg</td>\n",
              "      <td>0</td>\n",
              "      <td>1</td>\n",
              "    </tr>\n",
              "    <tr>\n",
              "      <th>1</th>\n",
              "      <td>levle0_483.jpg</td>\n",
              "      <td>0</td>\n",
              "      <td>2</td>\n",
              "    </tr>\n",
              "    <tr>\n",
              "      <th>2</th>\n",
              "      <td>levle0_110.jpg</td>\n",
              "      <td>0</td>\n",
              "      <td>2</td>\n",
              "    </tr>\n",
              "    <tr>\n",
              "      <th>3</th>\n",
              "      <td>levle0_404.jpg</td>\n",
              "      <td>0</td>\n",
              "      <td>1</td>\n",
              "    </tr>\n",
              "    <tr>\n",
              "      <th>4</th>\n",
              "      <td>levle0_155.jpg</td>\n",
              "      <td>0</td>\n",
              "      <td>1</td>\n",
              "    </tr>\n",
              "    <tr>\n",
              "      <th>...</th>\n",
              "      <td>...</td>\n",
              "      <td>...</td>\n",
              "      <td>...</td>\n",
              "    </tr>\n",
              "    <tr>\n",
              "      <th>286</th>\n",
              "      <td>levle3_83.jpg</td>\n",
              "      <td>3</td>\n",
              "      <td>51</td>\n",
              "    </tr>\n",
              "    <tr>\n",
              "      <th>287</th>\n",
              "      <td>levle3_37.jpg</td>\n",
              "      <td>3</td>\n",
              "      <td>55</td>\n",
              "    </tr>\n",
              "    <tr>\n",
              "      <th>288</th>\n",
              "      <td>levle3_109.jpg</td>\n",
              "      <td>3</td>\n",
              "      <td>52</td>\n",
              "    </tr>\n",
              "    <tr>\n",
              "      <th>289</th>\n",
              "      <td>levle3_76.jpg</td>\n",
              "      <td>3</td>\n",
              "      <td>56</td>\n",
              "    </tr>\n",
              "    <tr>\n",
              "      <th>290</th>\n",
              "      <td>levle3_113.jpg</td>\n",
              "      <td>3</td>\n",
              "      <td>64</td>\n",
              "    </tr>\n",
              "  </tbody>\n",
              "</table>\n",
              "<p>291 rows × 3 columns</p>\n",
              "</div>\n",
              "      <button class=\"colab-df-convert\" onclick=\"convertToInteractive('df-95535adf-72b3-4ec0-bc98-4cbb33db377b')\"\n",
              "              title=\"Convert this dataframe to an interactive table.\"\n",
              "              style=\"display:none;\">\n",
              "        \n",
              "  <svg xmlns=\"http://www.w3.org/2000/svg\" height=\"24px\"viewBox=\"0 0 24 24\"\n",
              "       width=\"24px\">\n",
              "    <path d=\"M0 0h24v24H0V0z\" fill=\"none\"/>\n",
              "    <path d=\"M18.56 5.44l.94 2.06.94-2.06 2.06-.94-2.06-.94-.94-2.06-.94 2.06-2.06.94zm-11 1L8.5 8.5l.94-2.06 2.06-.94-2.06-.94L8.5 2.5l-.94 2.06-2.06.94zm10 10l.94 2.06.94-2.06 2.06-.94-2.06-.94-.94-2.06-.94 2.06-2.06.94z\"/><path d=\"M17.41 7.96l-1.37-1.37c-.4-.4-.92-.59-1.43-.59-.52 0-1.04.2-1.43.59L10.3 9.45l-7.72 7.72c-.78.78-.78 2.05 0 2.83L4 21.41c.39.39.9.59 1.41.59.51 0 1.02-.2 1.41-.59l7.78-7.78 2.81-2.81c.8-.78.8-2.07 0-2.86zM5.41 20L4 18.59l7.72-7.72 1.47 1.35L5.41 20z\"/>\n",
              "  </svg>\n",
              "      </button>\n",
              "      \n",
              "  <style>\n",
              "    .colab-df-container {\n",
              "      display:flex;\n",
              "      flex-wrap:wrap;\n",
              "      gap: 12px;\n",
              "    }\n",
              "\n",
              "    .colab-df-convert {\n",
              "      background-color: #E8F0FE;\n",
              "      border: none;\n",
              "      border-radius: 50%;\n",
              "      cursor: pointer;\n",
              "      display: none;\n",
              "      fill: #1967D2;\n",
              "      height: 32px;\n",
              "      padding: 0 0 0 0;\n",
              "      width: 32px;\n",
              "    }\n",
              "\n",
              "    .colab-df-convert:hover {\n",
              "      background-color: #E2EBFA;\n",
              "      box-shadow: 0px 1px 2px rgba(60, 64, 67, 0.3), 0px 1px 3px 1px rgba(60, 64, 67, 0.15);\n",
              "      fill: #174EA6;\n",
              "    }\n",
              "\n",
              "    [theme=dark] .colab-df-convert {\n",
              "      background-color: #3B4455;\n",
              "      fill: #D2E3FC;\n",
              "    }\n",
              "\n",
              "    [theme=dark] .colab-df-convert:hover {\n",
              "      background-color: #434B5C;\n",
              "      box-shadow: 0px 1px 3px 1px rgba(0, 0, 0, 0.15);\n",
              "      filter: drop-shadow(0px 1px 2px rgba(0, 0, 0, 0.3));\n",
              "      fill: #FFFFFF;\n",
              "    }\n",
              "  </style>\n",
              "\n",
              "      <script>\n",
              "        const buttonEl =\n",
              "          document.querySelector('#df-95535adf-72b3-4ec0-bc98-4cbb33db377b button.colab-df-convert');\n",
              "        buttonEl.style.display =\n",
              "          google.colab.kernel.accessAllowed ? 'block' : 'none';\n",
              "\n",
              "        async function convertToInteractive(key) {\n",
              "          const element = document.querySelector('#df-95535adf-72b3-4ec0-bc98-4cbb33db377b');\n",
              "          const dataTable =\n",
              "            await google.colab.kernel.invokeFunction('convertToInteractive',\n",
              "                                                     [key], {});\n",
              "          if (!dataTable) return;\n",
              "\n",
              "          const docLinkHtml = 'Like what you see? Visit the ' +\n",
              "            '<a target=\"_blank\" href=https://colab.research.google.com/notebooks/data_table.ipynb>data table notebook</a>'\n",
              "            + ' to learn more about interactive tables.';\n",
              "          element.innerHTML = '';\n",
              "          dataTable['output_type'] = 'display_data';\n",
              "          await google.colab.output.renderOutput(dataTable, element);\n",
              "          const docLink = document.createElement('div');\n",
              "          docLink.innerHTML = docLinkHtml;\n",
              "          element.appendChild(docLink);\n",
              "        }\n",
              "      </script>\n",
              "    </div>\n",
              "  </div>\n",
              "  "
            ]
          },
          "metadata": {},
          "execution_count": 42
        }
      ]
    },
    {
      "cell_type": "code",
      "source": [
        "test_data_df['y_preds_values152'] = y_preds_values.tolist()\n",
        "test_data_df['y_preds_counts152'] = y_preds_count_values.tolist()\n",
        "test_data_df['y_preds_count2cls152'] = y_preds_count2cls_values.tolist()\n",
        "test_data_df['y_preds_values101'] = y_preds_values1.tolist()\n",
        "test_data_df['y_preds_counts101'] = y_preds_count_values1.tolist()\n",
        "test_data_df['y_preds_count2cls101'] = y_preds_count2cls_values1.tolist()\n",
        "test_data_df['y_preds_values50'] = y_preds_values2.tolist()\n",
        "test_data_df['y_preds_counts50'] = y_preds_count_values2.tolist()\n",
        "test_data_df['y_preds_count2cls50'] = y_preds_count2cls_values2.tolist()\n",
        "test_data_df['y_preds_values34'] = y_preds_values3.tolist()\n",
        "test_data_df['y_preds_counts34'] = y_preds_count_values3.tolist()\n",
        "test_data_df['y_preds_count2cls34'] = y_preds_count2cls_values3.tolist()"
      ],
      "metadata": {
        "colab": {
          "base_uri": "https://localhost:8080/"
        },
        "id": "NJLqbedxRW9V",
        "outputId": "756846b7-0806-402d-a5b2-eb01570b0afd"
      },
      "execution_count": null,
      "outputs": [
        {
          "output_type": "stream",
          "name": "stderr",
          "text": [
            "/usr/local/lib/python3.7/dist-packages/ipykernel_launcher.py:1: SettingWithCopyWarning: \n",
            "A value is trying to be set on a copy of a slice from a DataFrame.\n",
            "Try using .loc[row_indexer,col_indexer] = value instead\n",
            "\n",
            "See the caveats in the documentation: https://pandas.pydata.org/pandas-docs/stable/user_guide/indexing.html#returning-a-view-versus-a-copy\n",
            "  \"\"\"Entry point for launching an IPython kernel.\n",
            "/usr/local/lib/python3.7/dist-packages/ipykernel_launcher.py:2: SettingWithCopyWarning: \n",
            "A value is trying to be set on a copy of a slice from a DataFrame.\n",
            "Try using .loc[row_indexer,col_indexer] = value instead\n",
            "\n",
            "See the caveats in the documentation: https://pandas.pydata.org/pandas-docs/stable/user_guide/indexing.html#returning-a-view-versus-a-copy\n",
            "  \n",
            "/usr/local/lib/python3.7/dist-packages/ipykernel_launcher.py:3: SettingWithCopyWarning: \n",
            "A value is trying to be set on a copy of a slice from a DataFrame.\n",
            "Try using .loc[row_indexer,col_indexer] = value instead\n",
            "\n",
            "See the caveats in the documentation: https://pandas.pydata.org/pandas-docs/stable/user_guide/indexing.html#returning-a-view-versus-a-copy\n",
            "  This is separate from the ipykernel package so we can avoid doing imports until\n",
            "/usr/local/lib/python3.7/dist-packages/ipykernel_launcher.py:4: SettingWithCopyWarning: \n",
            "A value is trying to be set on a copy of a slice from a DataFrame.\n",
            "Try using .loc[row_indexer,col_indexer] = value instead\n",
            "\n",
            "See the caveats in the documentation: https://pandas.pydata.org/pandas-docs/stable/user_guide/indexing.html#returning-a-view-versus-a-copy\n",
            "  after removing the cwd from sys.path.\n",
            "/usr/local/lib/python3.7/dist-packages/ipykernel_launcher.py:5: SettingWithCopyWarning: \n",
            "A value is trying to be set on a copy of a slice from a DataFrame.\n",
            "Try using .loc[row_indexer,col_indexer] = value instead\n",
            "\n",
            "See the caveats in the documentation: https://pandas.pydata.org/pandas-docs/stable/user_guide/indexing.html#returning-a-view-versus-a-copy\n",
            "  \"\"\"\n",
            "/usr/local/lib/python3.7/dist-packages/ipykernel_launcher.py:6: SettingWithCopyWarning: \n",
            "A value is trying to be set on a copy of a slice from a DataFrame.\n",
            "Try using .loc[row_indexer,col_indexer] = value instead\n",
            "\n",
            "See the caveats in the documentation: https://pandas.pydata.org/pandas-docs/stable/user_guide/indexing.html#returning-a-view-versus-a-copy\n",
            "  \n",
            "/usr/local/lib/python3.7/dist-packages/ipykernel_launcher.py:7: SettingWithCopyWarning: \n",
            "A value is trying to be set on a copy of a slice from a DataFrame.\n",
            "Try using .loc[row_indexer,col_indexer] = value instead\n",
            "\n",
            "See the caveats in the documentation: https://pandas.pydata.org/pandas-docs/stable/user_guide/indexing.html#returning-a-view-versus-a-copy\n",
            "  import sys\n",
            "/usr/local/lib/python3.7/dist-packages/ipykernel_launcher.py:8: SettingWithCopyWarning: \n",
            "A value is trying to be set on a copy of a slice from a DataFrame.\n",
            "Try using .loc[row_indexer,col_indexer] = value instead\n",
            "\n",
            "See the caveats in the documentation: https://pandas.pydata.org/pandas-docs/stable/user_guide/indexing.html#returning-a-view-versus-a-copy\n",
            "  \n",
            "/usr/local/lib/python3.7/dist-packages/ipykernel_launcher.py:9: SettingWithCopyWarning: \n",
            "A value is trying to be set on a copy of a slice from a DataFrame.\n",
            "Try using .loc[row_indexer,col_indexer] = value instead\n",
            "\n",
            "See the caveats in the documentation: https://pandas.pydata.org/pandas-docs/stable/user_guide/indexing.html#returning-a-view-versus-a-copy\n",
            "  if __name__ == '__main__':\n",
            "/usr/local/lib/python3.7/dist-packages/ipykernel_launcher.py:10: SettingWithCopyWarning: \n",
            "A value is trying to be set on a copy of a slice from a DataFrame.\n",
            "Try using .loc[row_indexer,col_indexer] = value instead\n",
            "\n",
            "See the caveats in the documentation: https://pandas.pydata.org/pandas-docs/stable/user_guide/indexing.html#returning-a-view-versus-a-copy\n",
            "  # Remove the CWD from sys.path while we load stuff.\n",
            "/usr/local/lib/python3.7/dist-packages/ipykernel_launcher.py:11: SettingWithCopyWarning: \n",
            "A value is trying to be set on a copy of a slice from a DataFrame.\n",
            "Try using .loc[row_indexer,col_indexer] = value instead\n",
            "\n",
            "See the caveats in the documentation: https://pandas.pydata.org/pandas-docs/stable/user_guide/indexing.html#returning-a-view-versus-a-copy\n",
            "  # This is added back by InteractiveShellApp.init_path()\n",
            "/usr/local/lib/python3.7/dist-packages/ipykernel_launcher.py:12: SettingWithCopyWarning: \n",
            "A value is trying to be set on a copy of a slice from a DataFrame.\n",
            "Try using .loc[row_indexer,col_indexer] = value instead\n",
            "\n",
            "See the caveats in the documentation: https://pandas.pydata.org/pandas-docs/stable/user_guide/indexing.html#returning-a-view-versus-a-copy\n",
            "  if sys.path[0] == '':\n"
          ]
        }
      ]
    },
    {
      "cell_type": "code",
      "source": [
        "test_data_df"
      ],
      "metadata": {
        "colab": {
          "base_uri": "https://localhost:8080/",
          "height": 488
        },
        "id": "-mVHaIRsUFh3",
        "outputId": "db157275-0eea-49dd-8ae6-b8232b482de8"
      },
      "execution_count": null,
      "outputs": [
        {
          "output_type": "execute_result",
          "data": {
            "text/plain": [
              "           filename class counts  y_preds_values152  y_preds_counts152  \\\n",
              "0     levle0_60.jpg     0      1                  0                  2   \n",
              "1    levle0_483.jpg     0      2                  0                  0   \n",
              "2    levle0_110.jpg     0      2                  0                  0   \n",
              "3    levle0_404.jpg     0      1                  0                  0   \n",
              "4    levle0_155.jpg     0      1                  0                  1   \n",
              "..              ...   ...    ...                ...                ...   \n",
              "286   levle3_83.jpg     3     51                  3                 61   \n",
              "287   levle3_37.jpg     3     55                  3                 60   \n",
              "288  levle3_109.jpg     3     52                  3                 57   \n",
              "289   levle3_76.jpg     3     56                  3                 53   \n",
              "290  levle3_113.jpg     3     64                  3                 62   \n",
              "\n",
              "     y_preds_count2cls152  y_preds_values101  y_preds_counts101  \\\n",
              "0                       0                  0                  2   \n",
              "1                       0                  0                  0   \n",
              "2                       0                  0                  0   \n",
              "3                       0                  0                  1   \n",
              "4                       0                  0                  1   \n",
              "..                    ...                ...                ...   \n",
              "286                     3                  3                 61   \n",
              "287                     3                  3                 61   \n",
              "288                     3                  3                 62   \n",
              "289                     3                  3                 54   \n",
              "290                     3                  3                 55   \n",
              "\n",
              "     y_preds_count2cls101  y_preds_values50  y_preds_counts50  \\\n",
              "0                       0                 0                 3   \n",
              "1                       0                 0                 0   \n",
              "2                       0                 0                 1   \n",
              "3                       0                 0                 0   \n",
              "4                       0                 0                 3   \n",
              "..                    ...               ...               ...   \n",
              "286                     3                 3                61   \n",
              "287                     3                 3                61   \n",
              "288                     3                 3                63   \n",
              "289                     3                 3                53   \n",
              "290                     3                 3                54   \n",
              "\n",
              "     y_preds_count2cls50  y_preds_values34  y_preds_counts34  \\\n",
              "0                      0                 0                 1   \n",
              "1                      0                 0                 1   \n",
              "2                      0                 0                 1   \n",
              "3                      0                 0                 1   \n",
              "4                      0                 0                 1   \n",
              "..                   ...               ...               ...   \n",
              "286                    3                 3                54   \n",
              "287                    3                 3                55   \n",
              "288                    3                 3                54   \n",
              "289                    3                 3                60   \n",
              "290                    3                 2                26   \n",
              "\n",
              "     y_preds_count2cls34  \n",
              "0                      0  \n",
              "1                      0  \n",
              "2                      0  \n",
              "3                      0  \n",
              "4                      0  \n",
              "..                   ...  \n",
              "286                    3  \n",
              "287                    3  \n",
              "288                    3  \n",
              "289                    3  \n",
              "290                    2  \n",
              "\n",
              "[291 rows x 15 columns]"
            ],
            "text/html": [
              "\n",
              "  <div id=\"df-d7609f7c-0805-42fe-89d5-e8720792255d\">\n",
              "    <div class=\"colab-df-container\">\n",
              "      <div>\n",
              "<style scoped>\n",
              "    .dataframe tbody tr th:only-of-type {\n",
              "        vertical-align: middle;\n",
              "    }\n",
              "\n",
              "    .dataframe tbody tr th {\n",
              "        vertical-align: top;\n",
              "    }\n",
              "\n",
              "    .dataframe thead th {\n",
              "        text-align: right;\n",
              "    }\n",
              "</style>\n",
              "<table border=\"1\" class=\"dataframe\">\n",
              "  <thead>\n",
              "    <tr style=\"text-align: right;\">\n",
              "      <th></th>\n",
              "      <th>filename</th>\n",
              "      <th>class</th>\n",
              "      <th>counts</th>\n",
              "      <th>y_preds_values152</th>\n",
              "      <th>y_preds_counts152</th>\n",
              "      <th>y_preds_count2cls152</th>\n",
              "      <th>y_preds_values101</th>\n",
              "      <th>y_preds_counts101</th>\n",
              "      <th>y_preds_count2cls101</th>\n",
              "      <th>y_preds_values50</th>\n",
              "      <th>y_preds_counts50</th>\n",
              "      <th>y_preds_count2cls50</th>\n",
              "      <th>y_preds_values34</th>\n",
              "      <th>y_preds_counts34</th>\n",
              "      <th>y_preds_count2cls34</th>\n",
              "    </tr>\n",
              "  </thead>\n",
              "  <tbody>\n",
              "    <tr>\n",
              "      <th>0</th>\n",
              "      <td>levle0_60.jpg</td>\n",
              "      <td>0</td>\n",
              "      <td>1</td>\n",
              "      <td>0</td>\n",
              "      <td>2</td>\n",
              "      <td>0</td>\n",
              "      <td>0</td>\n",
              "      <td>2</td>\n",
              "      <td>0</td>\n",
              "      <td>0</td>\n",
              "      <td>3</td>\n",
              "      <td>0</td>\n",
              "      <td>0</td>\n",
              "      <td>1</td>\n",
              "      <td>0</td>\n",
              "    </tr>\n",
              "    <tr>\n",
              "      <th>1</th>\n",
              "      <td>levle0_483.jpg</td>\n",
              "      <td>0</td>\n",
              "      <td>2</td>\n",
              "      <td>0</td>\n",
              "      <td>0</td>\n",
              "      <td>0</td>\n",
              "      <td>0</td>\n",
              "      <td>0</td>\n",
              "      <td>0</td>\n",
              "      <td>0</td>\n",
              "      <td>0</td>\n",
              "      <td>0</td>\n",
              "      <td>0</td>\n",
              "      <td>1</td>\n",
              "      <td>0</td>\n",
              "    </tr>\n",
              "    <tr>\n",
              "      <th>2</th>\n",
              "      <td>levle0_110.jpg</td>\n",
              "      <td>0</td>\n",
              "      <td>2</td>\n",
              "      <td>0</td>\n",
              "      <td>0</td>\n",
              "      <td>0</td>\n",
              "      <td>0</td>\n",
              "      <td>0</td>\n",
              "      <td>0</td>\n",
              "      <td>0</td>\n",
              "      <td>1</td>\n",
              "      <td>0</td>\n",
              "      <td>0</td>\n",
              "      <td>1</td>\n",
              "      <td>0</td>\n",
              "    </tr>\n",
              "    <tr>\n",
              "      <th>3</th>\n",
              "      <td>levle0_404.jpg</td>\n",
              "      <td>0</td>\n",
              "      <td>1</td>\n",
              "      <td>0</td>\n",
              "      <td>0</td>\n",
              "      <td>0</td>\n",
              "      <td>0</td>\n",
              "      <td>1</td>\n",
              "      <td>0</td>\n",
              "      <td>0</td>\n",
              "      <td>0</td>\n",
              "      <td>0</td>\n",
              "      <td>0</td>\n",
              "      <td>1</td>\n",
              "      <td>0</td>\n",
              "    </tr>\n",
              "    <tr>\n",
              "      <th>4</th>\n",
              "      <td>levle0_155.jpg</td>\n",
              "      <td>0</td>\n",
              "      <td>1</td>\n",
              "      <td>0</td>\n",
              "      <td>1</td>\n",
              "      <td>0</td>\n",
              "      <td>0</td>\n",
              "      <td>1</td>\n",
              "      <td>0</td>\n",
              "      <td>0</td>\n",
              "      <td>3</td>\n",
              "      <td>0</td>\n",
              "      <td>0</td>\n",
              "      <td>1</td>\n",
              "      <td>0</td>\n",
              "    </tr>\n",
              "    <tr>\n",
              "      <th>...</th>\n",
              "      <td>...</td>\n",
              "      <td>...</td>\n",
              "      <td>...</td>\n",
              "      <td>...</td>\n",
              "      <td>...</td>\n",
              "      <td>...</td>\n",
              "      <td>...</td>\n",
              "      <td>...</td>\n",
              "      <td>...</td>\n",
              "      <td>...</td>\n",
              "      <td>...</td>\n",
              "      <td>...</td>\n",
              "      <td>...</td>\n",
              "      <td>...</td>\n",
              "      <td>...</td>\n",
              "    </tr>\n",
              "    <tr>\n",
              "      <th>286</th>\n",
              "      <td>levle3_83.jpg</td>\n",
              "      <td>3</td>\n",
              "      <td>51</td>\n",
              "      <td>3</td>\n",
              "      <td>61</td>\n",
              "      <td>3</td>\n",
              "      <td>3</td>\n",
              "      <td>61</td>\n",
              "      <td>3</td>\n",
              "      <td>3</td>\n",
              "      <td>61</td>\n",
              "      <td>3</td>\n",
              "      <td>3</td>\n",
              "      <td>54</td>\n",
              "      <td>3</td>\n",
              "    </tr>\n",
              "    <tr>\n",
              "      <th>287</th>\n",
              "      <td>levle3_37.jpg</td>\n",
              "      <td>3</td>\n",
              "      <td>55</td>\n",
              "      <td>3</td>\n",
              "      <td>60</td>\n",
              "      <td>3</td>\n",
              "      <td>3</td>\n",
              "      <td>61</td>\n",
              "      <td>3</td>\n",
              "      <td>3</td>\n",
              "      <td>61</td>\n",
              "      <td>3</td>\n",
              "      <td>3</td>\n",
              "      <td>55</td>\n",
              "      <td>3</td>\n",
              "    </tr>\n",
              "    <tr>\n",
              "      <th>288</th>\n",
              "      <td>levle3_109.jpg</td>\n",
              "      <td>3</td>\n",
              "      <td>52</td>\n",
              "      <td>3</td>\n",
              "      <td>57</td>\n",
              "      <td>3</td>\n",
              "      <td>3</td>\n",
              "      <td>62</td>\n",
              "      <td>3</td>\n",
              "      <td>3</td>\n",
              "      <td>63</td>\n",
              "      <td>3</td>\n",
              "      <td>3</td>\n",
              "      <td>54</td>\n",
              "      <td>3</td>\n",
              "    </tr>\n",
              "    <tr>\n",
              "      <th>289</th>\n",
              "      <td>levle3_76.jpg</td>\n",
              "      <td>3</td>\n",
              "      <td>56</td>\n",
              "      <td>3</td>\n",
              "      <td>53</td>\n",
              "      <td>3</td>\n",
              "      <td>3</td>\n",
              "      <td>54</td>\n",
              "      <td>3</td>\n",
              "      <td>3</td>\n",
              "      <td>53</td>\n",
              "      <td>3</td>\n",
              "      <td>3</td>\n",
              "      <td>60</td>\n",
              "      <td>3</td>\n",
              "    </tr>\n",
              "    <tr>\n",
              "      <th>290</th>\n",
              "      <td>levle3_113.jpg</td>\n",
              "      <td>3</td>\n",
              "      <td>64</td>\n",
              "      <td>3</td>\n",
              "      <td>62</td>\n",
              "      <td>3</td>\n",
              "      <td>3</td>\n",
              "      <td>55</td>\n",
              "      <td>3</td>\n",
              "      <td>3</td>\n",
              "      <td>54</td>\n",
              "      <td>3</td>\n",
              "      <td>2</td>\n",
              "      <td>26</td>\n",
              "      <td>2</td>\n",
              "    </tr>\n",
              "  </tbody>\n",
              "</table>\n",
              "<p>291 rows × 15 columns</p>\n",
              "</div>\n",
              "      <button class=\"colab-df-convert\" onclick=\"convertToInteractive('df-d7609f7c-0805-42fe-89d5-e8720792255d')\"\n",
              "              title=\"Convert this dataframe to an interactive table.\"\n",
              "              style=\"display:none;\">\n",
              "        \n",
              "  <svg xmlns=\"http://www.w3.org/2000/svg\" height=\"24px\"viewBox=\"0 0 24 24\"\n",
              "       width=\"24px\">\n",
              "    <path d=\"M0 0h24v24H0V0z\" fill=\"none\"/>\n",
              "    <path d=\"M18.56 5.44l.94 2.06.94-2.06 2.06-.94-2.06-.94-.94-2.06-.94 2.06-2.06.94zm-11 1L8.5 8.5l.94-2.06 2.06-.94-2.06-.94L8.5 2.5l-.94 2.06-2.06.94zm10 10l.94 2.06.94-2.06 2.06-.94-2.06-.94-.94-2.06-.94 2.06-2.06.94z\"/><path d=\"M17.41 7.96l-1.37-1.37c-.4-.4-.92-.59-1.43-.59-.52 0-1.04.2-1.43.59L10.3 9.45l-7.72 7.72c-.78.78-.78 2.05 0 2.83L4 21.41c.39.39.9.59 1.41.59.51 0 1.02-.2 1.41-.59l7.78-7.78 2.81-2.81c.8-.78.8-2.07 0-2.86zM5.41 20L4 18.59l7.72-7.72 1.47 1.35L5.41 20z\"/>\n",
              "  </svg>\n",
              "      </button>\n",
              "      \n",
              "  <style>\n",
              "    .colab-df-container {\n",
              "      display:flex;\n",
              "      flex-wrap:wrap;\n",
              "      gap: 12px;\n",
              "    }\n",
              "\n",
              "    .colab-df-convert {\n",
              "      background-color: #E8F0FE;\n",
              "      border: none;\n",
              "      border-radius: 50%;\n",
              "      cursor: pointer;\n",
              "      display: none;\n",
              "      fill: #1967D2;\n",
              "      height: 32px;\n",
              "      padding: 0 0 0 0;\n",
              "      width: 32px;\n",
              "    }\n",
              "\n",
              "    .colab-df-convert:hover {\n",
              "      background-color: #E2EBFA;\n",
              "      box-shadow: 0px 1px 2px rgba(60, 64, 67, 0.3), 0px 1px 3px 1px rgba(60, 64, 67, 0.15);\n",
              "      fill: #174EA6;\n",
              "    }\n",
              "\n",
              "    [theme=dark] .colab-df-convert {\n",
              "      background-color: #3B4455;\n",
              "      fill: #D2E3FC;\n",
              "    }\n",
              "\n",
              "    [theme=dark] .colab-df-convert:hover {\n",
              "      background-color: #434B5C;\n",
              "      box-shadow: 0px 1px 3px 1px rgba(0, 0, 0, 0.15);\n",
              "      filter: drop-shadow(0px 1px 2px rgba(0, 0, 0, 0.3));\n",
              "      fill: #FFFFFF;\n",
              "    }\n",
              "  </style>\n",
              "\n",
              "      <script>\n",
              "        const buttonEl =\n",
              "          document.querySelector('#df-d7609f7c-0805-42fe-89d5-e8720792255d button.colab-df-convert');\n",
              "        buttonEl.style.display =\n",
              "          google.colab.kernel.accessAllowed ? 'block' : 'none';\n",
              "\n",
              "        async function convertToInteractive(key) {\n",
              "          const element = document.querySelector('#df-d7609f7c-0805-42fe-89d5-e8720792255d');\n",
              "          const dataTable =\n",
              "            await google.colab.kernel.invokeFunction('convertToInteractive',\n",
              "                                                     [key], {});\n",
              "          if (!dataTable) return;\n",
              "\n",
              "          const docLinkHtml = 'Like what you see? Visit the ' +\n",
              "            '<a target=\"_blank\" href=https://colab.research.google.com/notebooks/data_table.ipynb>data table notebook</a>'\n",
              "            + ' to learn more about interactive tables.';\n",
              "          element.innerHTML = '';\n",
              "          dataTable['output_type'] = 'display_data';\n",
              "          await google.colab.output.renderOutput(dataTable, element);\n",
              "          const docLink = document.createElement('div');\n",
              "          docLink.innerHTML = docLinkHtml;\n",
              "          element.appendChild(docLink);\n",
              "        }\n",
              "      </script>\n",
              "    </div>\n",
              "  </div>\n",
              "  "
            ]
          },
          "metadata": {},
          "execution_count": 44
        }
      ]
    },
    {
      "cell_type": "code",
      "source": [
        "test_data_df.dtypes"
      ],
      "metadata": {
        "colab": {
          "base_uri": "https://localhost:8080/"
        },
        "id": "eJwaIoKCXLvM",
        "outputId": "2c2aa8db-7a00-40d5-ea52-9ee4d928875e"
      },
      "execution_count": null,
      "outputs": [
        {
          "output_type": "execute_result",
          "data": {
            "text/plain": [
              "filename                object\n",
              "class                   object\n",
              "counts                  object\n",
              "y_preds_values152        int64\n",
              "y_preds_counts152        int64\n",
              "y_preds_count2cls152     int64\n",
              "y_preds_values101        int64\n",
              "y_preds_counts101        int64\n",
              "y_preds_count2cls101     int64\n",
              "y_preds_values50         int64\n",
              "y_preds_counts50         int64\n",
              "y_preds_count2cls50      int64\n",
              "y_preds_values34         int64\n",
              "y_preds_counts34         int64\n",
              "y_preds_count2cls34      int64\n",
              "dtype: object"
            ]
          },
          "metadata": {},
          "execution_count": 45
        }
      ]
    },
    {
      "cell_type": "code",
      "source": [
        "test_data_df['class'] = test_data_df['class'].astype('int64')\n",
        "test_data_df['counts'] = test_data_df['counts'].astype('int64')"
      ],
      "metadata": {
        "colab": {
          "base_uri": "https://localhost:8080/"
        },
        "id": "MA0YPQWFXSZ-",
        "outputId": "4c3d4912-82ec-4fec-86fe-cf252f294e4e"
      },
      "execution_count": null,
      "outputs": [
        {
          "output_type": "stream",
          "name": "stderr",
          "text": [
            "/usr/local/lib/python3.7/dist-packages/ipykernel_launcher.py:1: SettingWithCopyWarning: \n",
            "A value is trying to be set on a copy of a slice from a DataFrame.\n",
            "Try using .loc[row_indexer,col_indexer] = value instead\n",
            "\n",
            "See the caveats in the documentation: https://pandas.pydata.org/pandas-docs/stable/user_guide/indexing.html#returning-a-view-versus-a-copy\n",
            "  \"\"\"Entry point for launching an IPython kernel.\n",
            "/usr/local/lib/python3.7/dist-packages/ipykernel_launcher.py:2: SettingWithCopyWarning: \n",
            "A value is trying to be set on a copy of a slice from a DataFrame.\n",
            "Try using .loc[row_indexer,col_indexer] = value instead\n",
            "\n",
            "See the caveats in the documentation: https://pandas.pydata.org/pandas-docs/stable/user_guide/indexing.html#returning-a-view-versus-a-copy\n",
            "  \n"
          ]
        }
      ]
    },
    {
      "cell_type": "code",
      "source": [
        "test_data_df.dtypes"
      ],
      "metadata": {
        "colab": {
          "base_uri": "https://localhost:8080/"
        },
        "id": "gdAV0Q2DXySW",
        "outputId": "1d76402e-0784-48ab-eb92-a1e6229e6e4d"
      },
      "execution_count": null,
      "outputs": [
        {
          "output_type": "execute_result",
          "data": {
            "text/plain": [
              "filename                object\n",
              "class                    int64\n",
              "counts                   int64\n",
              "y_preds_values152        int64\n",
              "y_preds_counts152        int64\n",
              "y_preds_count2cls152     int64\n",
              "y_preds_values101        int64\n",
              "y_preds_counts101        int64\n",
              "y_preds_count2cls101     int64\n",
              "y_preds_values50         int64\n",
              "y_preds_counts50         int64\n",
              "y_preds_count2cls50      int64\n",
              "y_preds_values34         int64\n",
              "y_preds_counts34         int64\n",
              "y_preds_count2cls34      int64\n",
              "dtype: object"
            ]
          },
          "metadata": {},
          "execution_count": 47
        }
      ]
    },
    {
      "cell_type": "markdown",
      "source": [
        "## adding resnet 152 columns"
      ],
      "metadata": {
        "id": "UAyzoCc6L4IU"
      }
    },
    {
      "cell_type": "code",
      "source": [
        "test_data_df['ycount152<true_counts'] = np.where(((test_data_df['counts']>test_data_df['y_preds_counts152']) & (test_data_df['class'] != test_data_df['y_preds_values152'])), test_data_df['filename'], np.nan)"
      ],
      "metadata": {
        "colab": {
          "base_uri": "https://localhost:8080/"
        },
        "id": "IWzDsnoZeK5H",
        "outputId": "c3835463-65ca-4839-c103-8b78e7769c1c"
      },
      "execution_count": null,
      "outputs": [
        {
          "output_type": "stream",
          "name": "stderr",
          "text": [
            "/usr/local/lib/python3.7/dist-packages/ipykernel_launcher.py:1: SettingWithCopyWarning: \n",
            "A value is trying to be set on a copy of a slice from a DataFrame.\n",
            "Try using .loc[row_indexer,col_indexer] = value instead\n",
            "\n",
            "See the caveats in the documentation: https://pandas.pydata.org/pandas-docs/stable/user_guide/indexing.html#returning-a-view-versus-a-copy\n",
            "  \"\"\"Entry point for launching an IPython kernel.\n"
          ]
        }
      ]
    },
    {
      "cell_type": "code",
      "source": [
        "images_lesser_counts_152 = test_data_df['ycount152<true_counts'].dropna().unique().tolist()\n",
        "images_lesser_counts_152"
      ],
      "metadata": {
        "colab": {
          "base_uri": "https://localhost:8080/"
        },
        "id": "Wlxp95eE7FAz",
        "outputId": "6692aae7-acf4-4ddc-aefa-f4d8c26fa5ff"
      },
      "execution_count": null,
      "outputs": [
        {
          "output_type": "execute_result",
          "data": {
            "text/plain": [
              "['levle1_157.jpg',\n",
              " 'levle1_212.jpg',\n",
              " 'levle1_620.jpg',\n",
              " 'levle1_526.jpg',\n",
              " 'levle1_403.jpg',\n",
              " 'levle1_103.jpg',\n",
              " 'levle1_256.jpg',\n",
              " 'levle1_121.jpg',\n",
              " 'levle1_613.jpg',\n",
              " 'levle1_179.jpg',\n",
              " 'levle1_201.jpg',\n",
              " 'levle1_269.jpg',\n",
              " 'levle1_250.jpg',\n",
              " 'levle1_554.jpg',\n",
              " 'levle1_242.jpg',\n",
              " 'levle1_494.jpg',\n",
              " 'levle1_569.jpg',\n",
              " 'levle2_26.jpg',\n",
              " 'levle2_59.jpg',\n",
              " 'levle2_108.jpg',\n",
              " 'levle2_109.jpg',\n",
              " 'levle2_40.jpg',\n",
              " 'levle2_161.jpg',\n",
              " 'levle2_190.jpg',\n",
              " 'levle2_96.jpg',\n",
              " 'levle3_64.jpg',\n",
              " 'levle2_95.jpg',\n",
              " 'levle2_56.jpg',\n",
              " 'levle2_39.jpg',\n",
              " 'levle3_117.jpg',\n",
              " 'levle3_130.jpg']"
            ]
          },
          "metadata": {},
          "execution_count": 49
        }
      ]
    },
    {
      "cell_type": "code",
      "source": [
        "len(images_lesser_counts_152)"
      ],
      "metadata": {
        "colab": {
          "base_uri": "https://localhost:8080/"
        },
        "id": "TiDFHiE2O5IL",
        "outputId": "da757517-5533-4b17-a151-ec7b566c78ba"
      },
      "execution_count": null,
      "outputs": [
        {
          "output_type": "execute_result",
          "data": {
            "text/plain": [
              "31"
            ]
          },
          "metadata": {},
          "execution_count": 65
        }
      ]
    },
    {
      "cell_type": "code",
      "source": [
        "test_data_df['count2cls152_!=_class152'] = np.where((test_data_df['y_preds_values152'] != test_data_df['y_preds_count2cls152']), test_data_df['filename'], np.nan)"
      ],
      "metadata": {
        "colab": {
          "base_uri": "https://localhost:8080/"
        },
        "id": "st29ITB_8taE",
        "outputId": "48656d23-006f-4c34-991d-f0798e4340cb"
      },
      "execution_count": null,
      "outputs": [
        {
          "output_type": "stream",
          "name": "stderr",
          "text": [
            "/usr/local/lib/python3.7/dist-packages/ipykernel_launcher.py:1: SettingWithCopyWarning: \n",
            "A value is trying to be set on a copy of a slice from a DataFrame.\n",
            "Try using .loc[row_indexer,col_indexer] = value instead\n",
            "\n",
            "See the caveats in the documentation: https://pandas.pydata.org/pandas-docs/stable/user_guide/indexing.html#returning-a-view-versus-a-copy\n",
            "  \"\"\"Entry point for launching an IPython kernel.\n"
          ]
        }
      ]
    },
    {
      "cell_type": "code",
      "source": [
        "images_unequal_class_152 = test_data_df['count2cls152_!=_class152'].dropna().unique().tolist()\n",
        "images_unequal_class_152"
      ],
      "metadata": {
        "colab": {
          "base_uri": "https://localhost:8080/"
        },
        "id": "Z_3-_BRa9TdM",
        "outputId": "5bc4c719-3ef3-4596-ffbb-acd798bcc5cf"
      },
      "execution_count": null,
      "outputs": [
        {
          "output_type": "execute_result",
          "data": {
            "text/plain": [
              "['levle0_96.jpg',\n",
              " 'levle0_173.jpg',\n",
              " 'levle1_256.jpg',\n",
              " 'levle1_201.jpg',\n",
              " 'levle1_554.jpg',\n",
              " 'levle1_494.jpg',\n",
              " 'levle2_190.jpg']"
            ]
          },
          "metadata": {},
          "execution_count": 51
        }
      ]
    },
    {
      "cell_type": "code",
      "source": [
        "len(images_unequal_class_152)"
      ],
      "metadata": {
        "colab": {
          "base_uri": "https://localhost:8080/"
        },
        "id": "LdxwwXPRPIgM",
        "outputId": "23aca74a-d6d3-4962-a12a-2e6227eb5e62"
      },
      "execution_count": null,
      "outputs": [
        {
          "output_type": "execute_result",
          "data": {
            "text/plain": [
              "7"
            ]
          },
          "metadata": {},
          "execution_count": 69
        }
      ]
    },
    {
      "cell_type": "code",
      "source": [
        "test_data_df['overall_lessthan_counts_152'] = np.where((test_data_df['counts']>test_data_df['y_preds_counts152']), test_data_df['filename'], np.nan)"
      ],
      "metadata": {
        "colab": {
          "base_uri": "https://localhost:8080/"
        },
        "id": "WSjJAwbySAYm",
        "outputId": "c2c28698-935b-4b5b-a8d9-69b37f6cb80e"
      },
      "execution_count": null,
      "outputs": [
        {
          "output_type": "stream",
          "name": "stderr",
          "text": [
            "/usr/local/lib/python3.7/dist-packages/ipykernel_launcher.py:1: SettingWithCopyWarning: \n",
            "A value is trying to be set on a copy of a slice from a DataFrame.\n",
            "Try using .loc[row_indexer,col_indexer] = value instead\n",
            "\n",
            "See the caveats in the documentation: https://pandas.pydata.org/pandas-docs/stable/user_guide/indexing.html#returning-a-view-versus-a-copy\n",
            "  \"\"\"Entry point for launching an IPython kernel.\n"
          ]
        }
      ]
    },
    {
      "cell_type": "code",
      "source": [
        "overall_images_lesser_counts_152 = test_data_df['overall_lessthan_counts_152'].dropna().unique().tolist()\n",
        "overall_images_lesser_counts_152"
      ],
      "metadata": {
        "colab": {
          "base_uri": "https://localhost:8080/"
        },
        "id": "egSBF4CySHv5",
        "outputId": "519313be-2d2e-4532-be69-40505c54322b"
      },
      "execution_count": null,
      "outputs": [
        {
          "output_type": "execute_result",
          "data": {
            "text/plain": [
              "['levle0_483.jpg',\n",
              " 'levle0_110.jpg',\n",
              " 'levle0_404.jpg',\n",
              " 'levle0_49.jpg',\n",
              " 'levle0_216.jpg',\n",
              " 'levle0_89.jpg',\n",
              " 'levle0_172.jpg',\n",
              " 'levle0_516.jpg',\n",
              " 'levle0_81.jpg',\n",
              " 'levle0_306.jpg',\n",
              " 'levle0_20.jpg',\n",
              " 'levle0_454.jpg',\n",
              " 'levle0_229.jpg',\n",
              " 'levle0_36.jpg',\n",
              " 'levle0_17.jpg',\n",
              " 'levle0_441.jpg',\n",
              " 'levle0_518.jpg',\n",
              " 'levle0_422.jpg',\n",
              " 'levle0_48.jpg',\n",
              " 'levle0_158.jpg',\n",
              " 'levle0_367.jpg',\n",
              " 'levle0_195.jpg',\n",
              " 'levle0_351.jpg',\n",
              " 'levle0_76.jpg',\n",
              " 'levle0_530.jpg',\n",
              " 'levle0_268.jpg',\n",
              " 'levle0_462.jpg',\n",
              " 'levle0_127.jpg',\n",
              " 'levle0_239.jpg',\n",
              " 'levle0_139.jpg',\n",
              " 'levle0_136.jpg',\n",
              " 'levle0_99.jpg',\n",
              " 'levle0_474.jpg',\n",
              " 'levle0_305.jpg',\n",
              " 'levle0_391.jpg',\n",
              " 'levle0_185.jpg',\n",
              " 'levle1_379.jpg',\n",
              " 'levle1_544.jpg',\n",
              " 'levle0_24.jpg',\n",
              " 'levle0_246.jpg',\n",
              " 'levle0_146.jpg',\n",
              " 'levle1_279.jpg',\n",
              " 'levle0_514.jpg',\n",
              " 'levle0_328.jpg',\n",
              " 'levle0_394.jpg',\n",
              " 'levle0_424.jpg',\n",
              " 'levle0_55.jpg',\n",
              " 'levle0_399.jpg',\n",
              " 'levle0_330.jpg',\n",
              " 'levle1_559.jpg',\n",
              " 'levle0_152.jpg',\n",
              " 'levle1_157.jpg',\n",
              " 'levle1_612.jpg',\n",
              " 'levle1_297.jpg',\n",
              " 'levle1_590.jpg',\n",
              " 'levle1_212.jpg',\n",
              " 'levle1_620.jpg',\n",
              " 'levle1_114.jpg',\n",
              " 'levle1_176.jpg',\n",
              " 'levle1_526.jpg',\n",
              " 'levle1_403.jpg',\n",
              " 'levle1_414.jpg',\n",
              " 'levle1_411.jpg',\n",
              " 'levle1_349.jpg',\n",
              " 'levle1_619.jpg',\n",
              " 'levle1_207.jpg',\n",
              " 'levle1_214.jpg',\n",
              " 'levle1_187.jpg',\n",
              " 'levle1_55.jpg',\n",
              " 'levle1_639.jpg',\n",
              " 'levle1_59.jpg',\n",
              " 'levle1_514.jpg',\n",
              " 'levle1_321.jpg',\n",
              " 'levle1_54.jpg',\n",
              " 'levle1_397.jpg',\n",
              " 'levle1_103.jpg',\n",
              " 'levle1_434.jpg',\n",
              " 'levle1_277.jpg',\n",
              " 'levle1_43.jpg',\n",
              " 'levle1_256.jpg',\n",
              " 'levle1_121.jpg',\n",
              " 'levle1_400.jpg',\n",
              " 'levle1_5.jpg',\n",
              " 'levle1_348.jpg',\n",
              " 'levle1_423.jpg',\n",
              " 'levle1_546.jpg',\n",
              " 'levle1_302.jpg',\n",
              " 'levle1_221.jpg',\n",
              " 'levle1_442.jpg',\n",
              " 'levle1_613.jpg',\n",
              " 'levle1_465.jpg',\n",
              " 'levle1_0.jpg',\n",
              " 'levle1_292.jpg',\n",
              " 'levle1_594.jpg',\n",
              " 'levle1_230.jpg',\n",
              " 'levle1_582.jpg',\n",
              " 'levle1_154.jpg',\n",
              " 'levle1_179.jpg',\n",
              " 'levle2_106.jpg',\n",
              " 'levle1_150.jpg',\n",
              " 'levle1_201.jpg',\n",
              " 'levle1_12.jpg',\n",
              " 'levle1_269.jpg',\n",
              " 'levle1_274.jpg',\n",
              " 'levle1_263.jpg',\n",
              " 'levle1_599.jpg',\n",
              " 'levle1_185.jpg',\n",
              " 'levle1_287.jpg',\n",
              " 'levle1_364.jpg',\n",
              " 'levle1_250.jpg',\n",
              " 'levle1_372.jpg',\n",
              " 'levle1_567.jpg',\n",
              " 'levle1_554.jpg',\n",
              " 'levle1_203.jpg',\n",
              " 'levle1_637.jpg',\n",
              " 'levle1_283.jpg',\n",
              " 'levle2_128.jpg',\n",
              " 'levle1_315.jpg',\n",
              " 'levle1_35.jpg',\n",
              " 'levle1_337.jpg',\n",
              " 'levle1_242.jpg',\n",
              " 'levle1_135.jpg',\n",
              " 'levle1_531.jpg',\n",
              " 'levle1_494.jpg',\n",
              " 'levle1_569.jpg',\n",
              " 'levle2_7.jpg',\n",
              " 'levle2_26.jpg',\n",
              " 'levle2_59.jpg',\n",
              " 'levle2_187.jpg',\n",
              " 'levle2_108.jpg',\n",
              " 'levle2_109.jpg',\n",
              " 'levle2_40.jpg',\n",
              " 'levle2_161.jpg',\n",
              " 'levle3_90.jpg',\n",
              " 'levle2_190.jpg',\n",
              " 'levle2_96.jpg',\n",
              " 'levle3_64.jpg',\n",
              " 'levle2_95.jpg',\n",
              " 'levle2_63.jpg',\n",
              " 'levle2_11.jpg',\n",
              " 'levle2_3.jpg',\n",
              " 'levle2_144.jpg',\n",
              " 'levle2_49.jpg',\n",
              " 'levle2_83.jpg',\n",
              " 'levle2_56.jpg',\n",
              " 'levle2_164.jpg',\n",
              " 'levle2_39.jpg',\n",
              " 'levle3_78.jpg',\n",
              " 'levle3_117.jpg',\n",
              " 'levle3_8.jpg',\n",
              " 'levle3_58.jpg',\n",
              " 'levle3_130.jpg',\n",
              " 'levle3_79.jpg',\n",
              " 'levle3_49.jpg',\n",
              " 'levle3_76.jpg',\n",
              " 'levle3_113.jpg']"
            ]
          },
          "metadata": {},
          "execution_count": 87
        }
      ]
    },
    {
      "cell_type": "code",
      "source": [
        "len(overall_images_lesser_counts_152)"
      ],
      "metadata": {
        "colab": {
          "base_uri": "https://localhost:8080/"
        },
        "id": "18TA4kI1S1EN",
        "outputId": "bd93f7d7-0907-4ed3-fe9a-73fcaa993cb4"
      },
      "execution_count": null,
      "outputs": [
        {
          "output_type": "execute_result",
          "data": {
            "text/plain": [
              "156"
            ]
          },
          "metadata": {},
          "execution_count": 88
        }
      ]
    },
    {
      "cell_type": "code",
      "source": [
        "test_data_df['ypred_!=_ytrue152'] = np.where((test_data_df['class'] != test_data_df['y_preds_values152']), test_data_df['filename'], np.nan)"
      ],
      "metadata": {
        "colab": {
          "base_uri": "https://localhost:8080/"
        },
        "id": "9ckz5D77Pgud",
        "outputId": "6b8b1c80-2219-4e8c-e3ab-cba74d5a1cf7"
      },
      "execution_count": null,
      "outputs": [
        {
          "output_type": "stream",
          "name": "stderr",
          "text": [
            "/usr/local/lib/python3.7/dist-packages/ipykernel_launcher.py:1: SettingWithCopyWarning: \n",
            "A value is trying to be set on a copy of a slice from a DataFrame.\n",
            "Try using .loc[row_indexer,col_indexer] = value instead\n",
            "\n",
            "See the caveats in the documentation: https://pandas.pydata.org/pandas-docs/stable/user_guide/indexing.html#returning-a-view-versus-a-copy\n",
            "  \"\"\"Entry point for launching an IPython kernel.\n"
          ]
        }
      ]
    },
    {
      "cell_type": "code",
      "source": [
        "images_unequal_predstrue_152 = test_data_df['ypred_!=_ytrue152'].dropna().unique().tolist()\n",
        "images_unequal_predstrue_152"
      ],
      "metadata": {
        "colab": {
          "base_uri": "https://localhost:8080/"
        },
        "id": "wCTsHPEjPvBA",
        "outputId": "599afd96-306d-4a5e-ede1-999b4e18d296"
      },
      "execution_count": null,
      "outputs": [
        {
          "output_type": "execute_result",
          "data": {
            "text/plain": [
              "['levle0_329.jpg',\n",
              " 'levle0_190.jpg',\n",
              " 'levle0_45.jpg',\n",
              " 'levle0_70.jpg',\n",
              " 'levle0_198.jpg',\n",
              " 'levle0_425.jpg',\n",
              " 'levle0_413.jpg',\n",
              " 'levle0_253.jpg',\n",
              " 'levle0_232.jpg',\n",
              " 'levle0_259.jpg',\n",
              " 'levle0_157.jpg',\n",
              " 'levle1_157.jpg',\n",
              " 'levle1_212.jpg',\n",
              " 'levle1_620.jpg',\n",
              " 'levle1_526.jpg',\n",
              " 'levle1_403.jpg',\n",
              " 'levle1_100.jpg',\n",
              " 'levle1_103.jpg',\n",
              " 'levle1_256.jpg',\n",
              " 'levle1_121.jpg',\n",
              " 'levle1_366.jpg',\n",
              " 'levle1_613.jpg',\n",
              " 'levle1_179.jpg',\n",
              " 'levle1_201.jpg',\n",
              " 'levle1_398.jpg',\n",
              " 'levle1_269.jpg',\n",
              " 'levle1_250.jpg',\n",
              " 'levle1_554.jpg',\n",
              " 'levle1_242.jpg',\n",
              " 'levle1_494.jpg',\n",
              " 'levle1_569.jpg',\n",
              " 'levle1_415.jpg',\n",
              " 'levle2_94.jpg',\n",
              " 'levle2_26.jpg',\n",
              " 'levle2_59.jpg',\n",
              " 'levle2_108.jpg',\n",
              " 'levle2_109.jpg',\n",
              " 'levle2_40.jpg',\n",
              " 'levle2_161.jpg',\n",
              " 'levle2_190.jpg',\n",
              " 'levle2_96.jpg',\n",
              " 'levle3_64.jpg',\n",
              " 'levle2_95.jpg',\n",
              " 'levle2_122.jpg',\n",
              " 'levle2_35.jpg',\n",
              " 'levle2_56.jpg',\n",
              " 'levle2_39.jpg',\n",
              " 'levle2_67.jpg',\n",
              " 'levle3_117.jpg',\n",
              " 'levle3_130.jpg']"
            ]
          },
          "metadata": {},
          "execution_count": 75
        }
      ]
    },
    {
      "cell_type": "code",
      "source": [
        "len(images_unequal_predstrue_152)"
      ],
      "metadata": {
        "colab": {
          "base_uri": "https://localhost:8080/"
        },
        "id": "4q70HNBsQBrP",
        "outputId": "42366dbe-bd57-4322-a002-96652f5d203e"
      },
      "execution_count": null,
      "outputs": [
        {
          "output_type": "execute_result",
          "data": {
            "text/plain": [
              "50"
            ]
          },
          "metadata": {},
          "execution_count": 76
        }
      ]
    },
    {
      "cell_type": "markdown",
      "source": [
        "## adding resnet 101 columns"
      ],
      "metadata": {
        "id": "EUHuy9GBMHP1"
      }
    },
    {
      "cell_type": "code",
      "source": [
        "test_data_df['ycount101<true_counts'] = np.where(((test_data_df['counts']>test_data_df['y_preds_counts101']) & (test_data_df['class'] != test_data_df['y_preds_values101'])), test_data_df['filename'], np.nan)"
      ],
      "metadata": {
        "colab": {
          "base_uri": "https://localhost:8080/"
        },
        "id": "Oyn-Z5YfL9Gi",
        "outputId": "f7d5ae52-c5ee-4f1f-c5d3-4106c4ef3bef"
      },
      "execution_count": null,
      "outputs": [
        {
          "output_type": "stream",
          "name": "stderr",
          "text": [
            "/usr/local/lib/python3.7/dist-packages/ipykernel_launcher.py:1: SettingWithCopyWarning: \n",
            "A value is trying to be set on a copy of a slice from a DataFrame.\n",
            "Try using .loc[row_indexer,col_indexer] = value instead\n",
            "\n",
            "See the caveats in the documentation: https://pandas.pydata.org/pandas-docs/stable/user_guide/indexing.html#returning-a-view-versus-a-copy\n",
            "  \"\"\"Entry point for launching an IPython kernel.\n"
          ]
        }
      ]
    },
    {
      "cell_type": "code",
      "source": [
        "images_lesser_counts_101 = test_data_df['ycount101<true_counts'].dropna().unique().tolist()\n",
        "images_lesser_counts_101"
      ],
      "metadata": {
        "colab": {
          "base_uri": "https://localhost:8080/"
        },
        "id": "_75Kxi9AMDuB",
        "outputId": "1525a9dc-94d0-4032-a8c1-4658b81eaed3"
      },
      "execution_count": null,
      "outputs": [
        {
          "output_type": "execute_result",
          "data": {
            "text/plain": [
              "['levle1_157.jpg',\n",
              " 'levle1_620.jpg',\n",
              " 'levle1_176.jpg',\n",
              " 'levle1_526.jpg',\n",
              " 'levle1_403.jpg',\n",
              " 'levle1_414.jpg',\n",
              " 'levle1_207.jpg',\n",
              " 'levle1_514.jpg',\n",
              " 'levle1_256.jpg',\n",
              " 'levle1_121.jpg',\n",
              " 'levle1_594.jpg',\n",
              " 'levle1_582.jpg',\n",
              " 'levle1_179.jpg',\n",
              " 'levle1_201.jpg',\n",
              " 'levle1_269.jpg',\n",
              " 'levle1_274.jpg',\n",
              " 'levle1_287.jpg',\n",
              " 'levle1_250.jpg',\n",
              " 'levle1_554.jpg',\n",
              " 'levle1_315.jpg',\n",
              " 'levle1_242.jpg',\n",
              " 'levle1_135.jpg',\n",
              " 'levle1_494.jpg',\n",
              " 'levle1_569.jpg',\n",
              " 'levle2_78.jpg',\n",
              " 'levle2_26.jpg',\n",
              " 'levle2_59.jpg',\n",
              " 'levle2_108.jpg',\n",
              " 'levle2_109.jpg',\n",
              " 'levle2_40.jpg',\n",
              " 'levle2_161.jpg',\n",
              " 'levle2_190.jpg',\n",
              " 'levle2_96.jpg',\n",
              " 'levle3_64.jpg',\n",
              " 'levle2_95.jpg',\n",
              " 'levle2_11.jpg',\n",
              " 'levle2_49.jpg',\n",
              " 'levle2_56.jpg',\n",
              " 'levle2_39.jpg',\n",
              " 'levle3_110.jpg',\n",
              " 'levle3_117.jpg']"
            ]
          },
          "metadata": {},
          "execution_count": 53
        }
      ]
    },
    {
      "cell_type": "code",
      "source": [
        "len(images_lesser_counts_101)"
      ],
      "metadata": {
        "colab": {
          "base_uri": "https://localhost:8080/"
        },
        "id": "-QAlCZKmO-8_",
        "outputId": "fd7157b5-c605-44f7-8647-73a051c1251c"
      },
      "execution_count": null,
      "outputs": [
        {
          "output_type": "execute_result",
          "data": {
            "text/plain": [
              "41"
            ]
          },
          "metadata": {},
          "execution_count": 66
        }
      ]
    },
    {
      "cell_type": "code",
      "source": [
        "test_data_df['count2cls101_!=_class101'] = np.where((test_data_df['y_preds_values101'] != test_data_df['y_preds_count2cls101']), test_data_df['filename'], np.nan)"
      ],
      "metadata": {
        "colab": {
          "base_uri": "https://localhost:8080/"
        },
        "id": "5czP1I4WNW-c",
        "outputId": "8ca85bbc-909d-4217-d800-b92375631025"
      },
      "execution_count": null,
      "outputs": [
        {
          "output_type": "stream",
          "name": "stderr",
          "text": [
            "/usr/local/lib/python3.7/dist-packages/ipykernel_launcher.py:1: SettingWithCopyWarning: \n",
            "A value is trying to be set on a copy of a slice from a DataFrame.\n",
            "Try using .loc[row_indexer,col_indexer] = value instead\n",
            "\n",
            "See the caveats in the documentation: https://pandas.pydata.org/pandas-docs/stable/user_guide/indexing.html#returning-a-view-versus-a-copy\n",
            "  \"\"\"Entry point for launching an IPython kernel.\n"
          ]
        }
      ]
    },
    {
      "cell_type": "code",
      "source": [
        "images_unequal_class_101 = test_data_df['count2cls101_!=_class101'].dropna().unique().tolist()\n",
        "images_unequal_class_101"
      ],
      "metadata": {
        "colab": {
          "base_uri": "https://localhost:8080/"
        },
        "id": "lftKpSO6NXyI",
        "outputId": "9c761e45-5c94-43f4-9631-98c3c6be2ebf"
      },
      "execution_count": null,
      "outputs": [
        {
          "output_type": "execute_result",
          "data": {
            "text/plain": [
              "['levle0_396.jpg',\n",
              " 'levle1_212.jpg',\n",
              " 'levle1_59.jpg',\n",
              " 'levle1_302.jpg',\n",
              " 'levle1_248.jpg',\n",
              " 'levle2_11.jpg']"
            ]
          },
          "metadata": {},
          "execution_count": 55
        }
      ]
    },
    {
      "cell_type": "code",
      "source": [
        "len(images_unequal_class_101)"
      ],
      "metadata": {
        "colab": {
          "base_uri": "https://localhost:8080/"
        },
        "id": "J4xxrf7gPNh6",
        "outputId": "8668f4e5-72d2-4bff-b1bd-a72ca6fd5b54"
      },
      "execution_count": null,
      "outputs": [
        {
          "output_type": "execute_result",
          "data": {
            "text/plain": [
              "6"
            ]
          },
          "metadata": {},
          "execution_count": 70
        }
      ]
    },
    {
      "cell_type": "code",
      "source": [
        "test_data_df['overall_lessthan_counts_101'] = np.where((test_data_df['counts']>test_data_df['y_preds_counts101']), test_data_df['filename'], np.nan)"
      ],
      "metadata": {
        "colab": {
          "base_uri": "https://localhost:8080/"
        },
        "id": "uuBqsYa8S6Nm",
        "outputId": "2a57bc5a-fa32-45e0-928d-955dccd94284"
      },
      "execution_count": null,
      "outputs": [
        {
          "output_type": "stream",
          "name": "stderr",
          "text": [
            "/usr/local/lib/python3.7/dist-packages/ipykernel_launcher.py:1: SettingWithCopyWarning: \n",
            "A value is trying to be set on a copy of a slice from a DataFrame.\n",
            "Try using .loc[row_indexer,col_indexer] = value instead\n",
            "\n",
            "See the caveats in the documentation: https://pandas.pydata.org/pandas-docs/stable/user_guide/indexing.html#returning-a-view-versus-a-copy\n",
            "  \"\"\"Entry point for launching an IPython kernel.\n"
          ]
        }
      ]
    },
    {
      "cell_type": "code",
      "source": [
        "overall_images_lesser_counts_101 = test_data_df['overall_lessthan_counts_101'].dropna().unique().tolist()\n",
        "overall_images_lesser_counts_101"
      ],
      "metadata": {
        "colab": {
          "base_uri": "https://localhost:8080/"
        },
        "id": "bEcSRSJuTUmC",
        "outputId": "6a53c37b-c74b-443c-a630-d4d385d16c3f"
      },
      "execution_count": null,
      "outputs": [
        {
          "output_type": "execute_result",
          "data": {
            "text/plain": [
              "['levle0_483.jpg',\n",
              " 'levle0_110.jpg',\n",
              " 'levle0_49.jpg',\n",
              " 'levle0_113.jpg',\n",
              " 'levle0_216.jpg',\n",
              " 'levle0_172.jpg',\n",
              " 'levle0_160.jpg',\n",
              " 'levle0_516.jpg',\n",
              " 'levle0_70.jpg',\n",
              " 'levle0_81.jpg',\n",
              " 'levle0_20.jpg',\n",
              " 'levle0_454.jpg',\n",
              " 'levle0_229.jpg',\n",
              " 'levle0_36.jpg',\n",
              " 'levle0_87.jpg',\n",
              " 'levle0_17.jpg',\n",
              " 'levle0_441.jpg',\n",
              " 'levle0_518.jpg',\n",
              " 'levle0_422.jpg',\n",
              " 'levle0_48.jpg',\n",
              " 'levle0_158.jpg',\n",
              " 'levle0_367.jpg',\n",
              " 'levle0_116.jpg',\n",
              " 'levle0_244.jpg',\n",
              " 'levle0_351.jpg',\n",
              " 'levle0_76.jpg',\n",
              " 'levle0_530.jpg',\n",
              " 'levle0_268.jpg',\n",
              " 'levle0_526.jpg',\n",
              " 'levle0_462.jpg',\n",
              " 'levle0_127.jpg',\n",
              " 'levle0_239.jpg',\n",
              " 'levle0_139.jpg',\n",
              " 'levle0_463.jpg',\n",
              " 'levle0_99.jpg',\n",
              " 'levle0_474.jpg',\n",
              " 'levle0_305.jpg',\n",
              " 'levle0_391.jpg',\n",
              " 'levle0_185.jpg',\n",
              " 'levle1_379.jpg',\n",
              " 'levle0_443.jpg',\n",
              " 'levle1_544.jpg',\n",
              " 'levle0_524.jpg',\n",
              " 'levle0_24.jpg',\n",
              " 'levle0_246.jpg',\n",
              " 'levle0_146.jpg',\n",
              " 'levle1_279.jpg',\n",
              " 'levle0_514.jpg',\n",
              " 'levle0_328.jpg',\n",
              " 'levle0_92.jpg',\n",
              " 'levle0_424.jpg',\n",
              " 'levle0_55.jpg',\n",
              " 'levle0_399.jpg',\n",
              " 'levle0_330.jpg',\n",
              " 'levle1_559.jpg',\n",
              " 'levle0_152.jpg',\n",
              " 'levle1_157.jpg',\n",
              " 'levle1_612.jpg',\n",
              " 'levle1_297.jpg',\n",
              " 'levle1_590.jpg',\n",
              " 'levle1_212.jpg',\n",
              " 'levle1_620.jpg',\n",
              " 'levle1_114.jpg',\n",
              " 'levle1_176.jpg',\n",
              " 'levle1_526.jpg',\n",
              " 'levle1_403.jpg',\n",
              " 'levle1_414.jpg',\n",
              " 'levle1_411.jpg',\n",
              " 'levle1_619.jpg',\n",
              " 'levle1_207.jpg',\n",
              " 'levle1_214.jpg',\n",
              " 'levle1_187.jpg',\n",
              " 'levle1_55.jpg',\n",
              " 'levle1_639.jpg',\n",
              " 'levle1_59.jpg',\n",
              " 'levle1_514.jpg',\n",
              " 'levle1_321.jpg',\n",
              " 'levle1_54.jpg',\n",
              " 'levle1_397.jpg',\n",
              " 'levle1_103.jpg',\n",
              " 'levle1_434.jpg',\n",
              " 'levle1_277.jpg',\n",
              " 'levle1_43.jpg',\n",
              " 'levle1_256.jpg',\n",
              " 'levle1_121.jpg',\n",
              " 'levle1_400.jpg',\n",
              " 'levle1_138.jpg',\n",
              " 'levle1_5.jpg',\n",
              " 'levle1_348.jpg',\n",
              " 'levle1_498.jpg',\n",
              " 'levle1_423.jpg',\n",
              " 'levle1_546.jpg',\n",
              " 'levle1_302.jpg',\n",
              " 'levle1_221.jpg',\n",
              " 'levle1_442.jpg',\n",
              " 'levle1_613.jpg',\n",
              " 'levle1_560.jpg',\n",
              " 'levle1_465.jpg',\n",
              " 'levle1_248.jpg',\n",
              " 'levle1_0.jpg',\n",
              " 'levle1_292.jpg',\n",
              " 'levle1_594.jpg',\n",
              " 'levle1_230.jpg',\n",
              " 'levle1_582.jpg',\n",
              " 'levle1_154.jpg',\n",
              " 'levle1_179.jpg',\n",
              " 'levle2_106.jpg',\n",
              " 'levle1_150.jpg',\n",
              " 'levle1_201.jpg',\n",
              " 'levle1_398.jpg',\n",
              " 'levle1_12.jpg',\n",
              " 'levle1_269.jpg',\n",
              " 'levle1_274.jpg',\n",
              " 'levle1_263.jpg',\n",
              " 'levle1_599.jpg',\n",
              " 'levle1_185.jpg',\n",
              " 'levle1_287.jpg',\n",
              " 'levle1_364.jpg',\n",
              " 'levle1_250.jpg',\n",
              " 'levle1_372.jpg',\n",
              " 'levle1_567.jpg',\n",
              " 'levle1_554.jpg',\n",
              " 'levle1_203.jpg',\n",
              " 'levle1_637.jpg',\n",
              " 'levle1_283.jpg',\n",
              " 'levle2_128.jpg',\n",
              " 'levle1_315.jpg',\n",
              " 'levle1_35.jpg',\n",
              " 'levle1_271.jpg',\n",
              " 'levle1_242.jpg',\n",
              " 'levle1_483.jpg',\n",
              " 'levle1_135.jpg',\n",
              " 'levle1_595.jpg',\n",
              " 'levle1_531.jpg',\n",
              " 'levle1_494.jpg',\n",
              " 'levle1_569.jpg',\n",
              " 'levle2_78.jpg',\n",
              " 'levle2_7.jpg',\n",
              " 'levle2_26.jpg',\n",
              " 'levle2_59.jpg',\n",
              " 'levle2_187.jpg',\n",
              " 'levle2_176.jpg',\n",
              " 'levle2_108.jpg',\n",
              " 'levle2_109.jpg',\n",
              " 'levle2_40.jpg',\n",
              " 'levle2_161.jpg',\n",
              " 'levle3_90.jpg',\n",
              " 'levle2_190.jpg',\n",
              " 'levle2_96.jpg',\n",
              " 'levle3_64.jpg',\n",
              " 'levle2_95.jpg',\n",
              " 'levle2_63.jpg',\n",
              " 'levle2_11.jpg',\n",
              " 'levle2_3.jpg',\n",
              " 'levle2_144.jpg',\n",
              " 'levle2_49.jpg',\n",
              " 'levle2_56.jpg',\n",
              " 'levle2_164.jpg',\n",
              " 'levle2_39.jpg',\n",
              " 'levle3_110.jpg',\n",
              " 'levle3_78.jpg',\n",
              " 'levle3_117.jpg',\n",
              " 'levle3_8.jpg',\n",
              " 'levle3_58.jpg',\n",
              " 'levle3_79.jpg',\n",
              " 'levle3_49.jpg',\n",
              " 'levle3_76.jpg',\n",
              " 'levle3_113.jpg']"
            ]
          },
          "metadata": {},
          "execution_count": 90
        }
      ]
    },
    {
      "cell_type": "code",
      "source": [
        "len(overall_images_lesser_counts_101)"
      ],
      "metadata": {
        "colab": {
          "base_uri": "https://localhost:8080/"
        },
        "id": "hUTdpLrBTolX",
        "outputId": "f84365c2-d548-4f3d-b5c7-0844fe8dfa30"
      },
      "execution_count": null,
      "outputs": [
        {
          "output_type": "execute_result",
          "data": {
            "text/plain": [
              "168"
            ]
          },
          "metadata": {},
          "execution_count": 91
        }
      ]
    },
    {
      "cell_type": "code",
      "source": [
        "test_data_df['ypred_!=_ytrue101'] = np.where((test_data_df['class'] != test_data_df['y_preds_values101']), test_data_df['filename'], np.nan)"
      ],
      "metadata": {
        "colab": {
          "base_uri": "https://localhost:8080/"
        },
        "id": "BJ2nImwrQbvo",
        "outputId": "2be0c4b2-d223-4cfe-a8e2-5100d6f110d7"
      },
      "execution_count": null,
      "outputs": [
        {
          "output_type": "stream",
          "name": "stderr",
          "text": [
            "/usr/local/lib/python3.7/dist-packages/ipykernel_launcher.py:1: SettingWithCopyWarning: \n",
            "A value is trying to be set on a copy of a slice from a DataFrame.\n",
            "Try using .loc[row_indexer,col_indexer] = value instead\n",
            "\n",
            "See the caveats in the documentation: https://pandas.pydata.org/pandas-docs/stable/user_guide/indexing.html#returning-a-view-versus-a-copy\n",
            "  \"\"\"Entry point for launching an IPython kernel.\n"
          ]
        }
      ]
    },
    {
      "cell_type": "code",
      "source": [
        "images_unequal_predstrue_101 = test_data_df['ypred_!=_ytrue101'].dropna().unique().tolist()\n",
        "images_unequal_predstrue_101"
      ],
      "metadata": {
        "colab": {
          "base_uri": "https://localhost:8080/"
        },
        "id": "6xW-MorjQrcL",
        "outputId": "5d897400-a9c8-4fef-96f6-04b0c56b5c3c"
      },
      "execution_count": null,
      "outputs": [
        {
          "output_type": "execute_result",
          "data": {
            "text/plain": [
              "['levle0_329.jpg',\n",
              " 'levle0_190.jpg',\n",
              " 'levle0_45.jpg',\n",
              " 'levle0_198.jpg',\n",
              " 'levle0_425.jpg',\n",
              " 'levle0_209.jpg',\n",
              " 'levle0_413.jpg',\n",
              " 'levle0_253.jpg',\n",
              " 'levle0_396.jpg',\n",
              " 'levle0_259.jpg',\n",
              " 'levle0_157.jpg',\n",
              " 'levle1_157.jpg',\n",
              " 'levle1_620.jpg',\n",
              " 'levle1_176.jpg',\n",
              " 'levle1_526.jpg',\n",
              " 'levle1_403.jpg',\n",
              " 'levle1_414.jpg',\n",
              " 'levle1_207.jpg',\n",
              " 'levle1_514.jpg',\n",
              " 'levle1_256.jpg',\n",
              " 'levle1_121.jpg',\n",
              " 'levle1_594.jpg',\n",
              " 'levle1_582.jpg',\n",
              " 'levle1_179.jpg',\n",
              " 'levle1_201.jpg',\n",
              " 'levle1_269.jpg',\n",
              " 'levle1_274.jpg',\n",
              " 'levle1_287.jpg',\n",
              " 'levle1_250.jpg',\n",
              " 'levle1_554.jpg',\n",
              " 'levle1_315.jpg',\n",
              " 'levle1_242.jpg',\n",
              " 'levle1_135.jpg',\n",
              " 'levle1_494.jpg',\n",
              " 'levle1_569.jpg',\n",
              " 'levle1_415.jpg',\n",
              " 'levle2_78.jpg',\n",
              " 'levle2_94.jpg',\n",
              " 'levle2_26.jpg',\n",
              " 'levle2_59.jpg',\n",
              " 'levle2_108.jpg',\n",
              " 'levle2_109.jpg',\n",
              " 'levle2_40.jpg',\n",
              " 'levle2_161.jpg',\n",
              " 'levle2_190.jpg',\n",
              " 'levle2_96.jpg',\n",
              " 'levle3_64.jpg',\n",
              " 'levle2_95.jpg',\n",
              " 'levle2_122.jpg',\n",
              " 'levle2_11.jpg',\n",
              " 'levle2_49.jpg',\n",
              " 'levle2_35.jpg',\n",
              " 'levle2_56.jpg',\n",
              " 'levle2_39.jpg',\n",
              " 'levle2_67.jpg',\n",
              " 'levle3_110.jpg',\n",
              " 'levle3_117.jpg']"
            ]
          },
          "metadata": {},
          "execution_count": 78
        }
      ]
    },
    {
      "cell_type": "code",
      "source": [
        "len(images_unequal_predstrue_101)"
      ],
      "metadata": {
        "colab": {
          "base_uri": "https://localhost:8080/"
        },
        "id": "MMNf1tbmQ8zS",
        "outputId": "d95840b2-3bc7-4cb2-929a-64ccba5b56d0"
      },
      "execution_count": null,
      "outputs": [
        {
          "output_type": "execute_result",
          "data": {
            "text/plain": [
              "57"
            ]
          },
          "metadata": {},
          "execution_count": 79
        }
      ]
    },
    {
      "cell_type": "markdown",
      "source": [
        "## adding resnet 50 columns"
      ],
      "metadata": {
        "id": "U5f4ZdD1MKEP"
      }
    },
    {
      "cell_type": "code",
      "source": [
        "test_data_df['ycount50<true_counts'] = np.where(((test_data_df['counts']>test_data_df['y_preds_counts50']) & (test_data_df['class'] != test_data_df['y_preds_values50'])), test_data_df['filename'], np.nan)"
      ],
      "metadata": {
        "colab": {
          "base_uri": "https://localhost:8080/"
        },
        "id": "6ca3UmuCMSOH",
        "outputId": "c570a006-6df1-4c32-eced-9c058d1cac7e"
      },
      "execution_count": null,
      "outputs": [
        {
          "output_type": "stream",
          "name": "stderr",
          "text": [
            "/usr/local/lib/python3.7/dist-packages/ipykernel_launcher.py:1: SettingWithCopyWarning: \n",
            "A value is trying to be set on a copy of a slice from a DataFrame.\n",
            "Try using .loc[row_indexer,col_indexer] = value instead\n",
            "\n",
            "See the caveats in the documentation: https://pandas.pydata.org/pandas-docs/stable/user_guide/indexing.html#returning-a-view-versus-a-copy\n",
            "  \"\"\"Entry point for launching an IPython kernel.\n"
          ]
        }
      ]
    },
    {
      "cell_type": "code",
      "source": [
        "images_lesser_counts_50 = test_data_df['ycount50<true_counts'].dropna().unique().tolist()\n",
        "images_lesser_counts_50"
      ],
      "metadata": {
        "colab": {
          "base_uri": "https://localhost:8080/"
        },
        "id": "rc_08O67MSDw",
        "outputId": "33b3c284-616a-44cc-93a8-b577d65dbf47"
      },
      "execution_count": null,
      "outputs": [
        {
          "output_type": "execute_result",
          "data": {
            "text/plain": [
              "['levle1_157.jpg',\n",
              " 'levle1_212.jpg',\n",
              " 'levle1_620.jpg',\n",
              " 'levle1_526.jpg',\n",
              " 'levle1_403.jpg',\n",
              " 'levle1_414.jpg',\n",
              " 'levle1_121.jpg',\n",
              " 'levle1_348.jpg',\n",
              " 'levle1_302.jpg',\n",
              " 'levle1_613.jpg',\n",
              " 'levle1_179.jpg',\n",
              " 'levle1_269.jpg',\n",
              " 'levle1_274.jpg',\n",
              " 'levle1_287.jpg',\n",
              " 'levle1_250.jpg',\n",
              " 'levle1_554.jpg',\n",
              " 'levle1_283.jpg',\n",
              " 'levle1_337.jpg',\n",
              " 'levle1_242.jpg',\n",
              " 'levle1_135.jpg',\n",
              " 'levle1_569.jpg',\n",
              " 'levle2_78.jpg',\n",
              " 'levle2_26.jpg',\n",
              " 'levle2_59.jpg',\n",
              " 'levle2_40.jpg',\n",
              " 'levle2_96.jpg',\n",
              " 'levle3_64.jpg',\n",
              " 'levle2_95.jpg',\n",
              " 'levle2_49.jpg',\n",
              " 'levle2_56.jpg',\n",
              " 'levle2_39.jpg',\n",
              " 'levle3_110.jpg',\n",
              " 'levle3_66.jpg']"
            ]
          },
          "metadata": {},
          "execution_count": 99
        }
      ]
    },
    {
      "cell_type": "code",
      "source": [
        "len(images_lesser_counts_50)"
      ],
      "metadata": {
        "colab": {
          "base_uri": "https://localhost:8080/"
        },
        "id": "tyZPueHXPBUh",
        "outputId": "621de97a-f938-42fb-ecc5-6691ec664e58"
      },
      "execution_count": null,
      "outputs": [
        {
          "output_type": "execute_result",
          "data": {
            "text/plain": [
              "33"
            ]
          },
          "metadata": {},
          "execution_count": 100
        }
      ]
    },
    {
      "cell_type": "code",
      "source": [
        "test_data_df['count2cls50_!=_class50'] = np.where((test_data_df['y_preds_values50'] != test_data_df['y_preds_count2cls50']), test_data_df['filename'], np.nan)"
      ],
      "metadata": {
        "colab": {
          "base_uri": "https://localhost:8080/"
        },
        "id": "U7PVWxE9MR6X",
        "outputId": "d26554e2-58dd-416a-e619-d455c594be9e"
      },
      "execution_count": null,
      "outputs": [
        {
          "output_type": "stream",
          "name": "stderr",
          "text": [
            "/usr/local/lib/python3.7/dist-packages/ipykernel_launcher.py:1: SettingWithCopyWarning: \n",
            "A value is trying to be set on a copy of a slice from a DataFrame.\n",
            "Try using .loc[row_indexer,col_indexer] = value instead\n",
            "\n",
            "See the caveats in the documentation: https://pandas.pydata.org/pandas-docs/stable/user_guide/indexing.html#returning-a-view-versus-a-copy\n",
            "  \"\"\"Entry point for launching an IPython kernel.\n"
          ]
        }
      ]
    },
    {
      "cell_type": "code",
      "source": [
        "images_unequal_class_50 = test_data_df['count2cls50_!=_class50'].dropna().unique().tolist()\n",
        "images_unequal_class_50"
      ],
      "metadata": {
        "colab": {
          "base_uri": "https://localhost:8080/"
        },
        "id": "BZOviyPPMRt4",
        "outputId": "d60d8c7d-fcdd-4b74-8178-14a8c18c6a22"
      },
      "execution_count": null,
      "outputs": [
        {
          "output_type": "execute_result",
          "data": {
            "text/plain": [
              "['levle0_70.jpg',\n",
              " 'levle0_524.jpg',\n",
              " 'levle0_393.jpg',\n",
              " 'levle1_59.jpg',\n",
              " 'levle1_337.jpg',\n",
              " 'levle2_26.jpg',\n",
              " 'levle3_90.jpg',\n",
              " 'levle2_96.jpg',\n",
              " 'levle2_56.jpg',\n",
              " 'levle3_117.jpg']"
            ]
          },
          "metadata": {},
          "execution_count": 59
        }
      ]
    },
    {
      "cell_type": "code",
      "source": [
        "len(images_unequal_class_50)"
      ],
      "metadata": {
        "colab": {
          "base_uri": "https://localhost:8080/"
        },
        "id": "WuBAAeESPP_k",
        "outputId": "b80606dc-bf8b-4f6d-ed78-989f5aa571ad"
      },
      "execution_count": null,
      "outputs": [
        {
          "output_type": "execute_result",
          "data": {
            "text/plain": [
              "10"
            ]
          },
          "metadata": {},
          "execution_count": 71
        }
      ]
    },
    {
      "cell_type": "code",
      "source": [
        "test_data_df['overall_lessthan_counts_50'] = np.where((test_data_df['counts']>test_data_df['y_preds_counts50']), test_data_df['filename'], np.nan)"
      ],
      "metadata": {
        "colab": {
          "base_uri": "https://localhost:8080/"
        },
        "id": "0V8ZsGPGS8Xy",
        "outputId": "dfb13c75-1f71-455d-e375-4ae802259d04"
      },
      "execution_count": null,
      "outputs": [
        {
          "output_type": "stream",
          "name": "stderr",
          "text": [
            "/usr/local/lib/python3.7/dist-packages/ipykernel_launcher.py:1: SettingWithCopyWarning: \n",
            "A value is trying to be set on a copy of a slice from a DataFrame.\n",
            "Try using .loc[row_indexer,col_indexer] = value instead\n",
            "\n",
            "See the caveats in the documentation: https://pandas.pydata.org/pandas-docs/stable/user_guide/indexing.html#returning-a-view-versus-a-copy\n",
            "  \"\"\"Entry point for launching an IPython kernel.\n"
          ]
        }
      ]
    },
    {
      "cell_type": "code",
      "source": [
        "overall_images_lesser_counts_50 = test_data_df['overall_lessthan_counts_50'].dropna().unique().tolist()\n",
        "overall_images_lesser_counts_50"
      ],
      "metadata": {
        "colab": {
          "base_uri": "https://localhost:8080/"
        },
        "id": "vPRGNjOETZUh",
        "outputId": "fd8706e8-cf3f-4695-e1c8-5927f71c07c6"
      },
      "execution_count": null,
      "outputs": [
        {
          "output_type": "execute_result",
          "data": {
            "text/plain": [
              "['levle0_483.jpg',\n",
              " 'levle0_110.jpg',\n",
              " 'levle0_404.jpg',\n",
              " 'levle0_49.jpg',\n",
              " 'levle0_216.jpg',\n",
              " 'levle0_172.jpg',\n",
              " 'levle0_160.jpg',\n",
              " 'levle0_516.jpg',\n",
              " 'levle0_81.jpg',\n",
              " 'levle0_306.jpg',\n",
              " 'levle0_20.jpg',\n",
              " 'levle0_454.jpg',\n",
              " 'levle0_229.jpg',\n",
              " 'levle0_36.jpg',\n",
              " 'levle0_17.jpg',\n",
              " 'levle0_441.jpg',\n",
              " 'levle0_518.jpg',\n",
              " 'levle0_48.jpg',\n",
              " 'levle0_158.jpg',\n",
              " 'levle0_367.jpg',\n",
              " 'levle0_244.jpg',\n",
              " 'levle0_76.jpg',\n",
              " 'levle0_530.jpg',\n",
              " 'levle0_268.jpg',\n",
              " 'levle0_526.jpg',\n",
              " 'levle0_462.jpg',\n",
              " 'levle0_127.jpg',\n",
              " 'levle0_239.jpg',\n",
              " 'levle0_139.jpg',\n",
              " 'levle0_463.jpg',\n",
              " 'levle0_99.jpg',\n",
              " 'levle0_474.jpg',\n",
              " 'levle0_374.jpg',\n",
              " 'levle0_305.jpg',\n",
              " 'levle0_391.jpg',\n",
              " 'levle0_185.jpg',\n",
              " 'levle1_379.jpg',\n",
              " 'levle1_544.jpg',\n",
              " 'levle0_24.jpg',\n",
              " 'levle0_246.jpg',\n",
              " 'levle0_146.jpg',\n",
              " 'levle0_514.jpg',\n",
              " 'levle0_424.jpg',\n",
              " 'levle0_55.jpg',\n",
              " 'levle0_399.jpg',\n",
              " 'levle0_330.jpg',\n",
              " 'levle1_559.jpg',\n",
              " 'levle1_157.jpg',\n",
              " 'levle1_612.jpg',\n",
              " 'levle1_297.jpg',\n",
              " 'levle1_590.jpg',\n",
              " 'levle1_212.jpg',\n",
              " 'levle1_620.jpg',\n",
              " 'levle1_114.jpg',\n",
              " 'levle1_176.jpg',\n",
              " 'levle1_526.jpg',\n",
              " 'levle1_403.jpg',\n",
              " 'levle1_414.jpg',\n",
              " 'levle1_411.jpg',\n",
              " 'levle1_619.jpg',\n",
              " 'levle1_207.jpg',\n",
              " 'levle1_214.jpg',\n",
              " 'levle1_187.jpg',\n",
              " 'levle1_55.jpg',\n",
              " 'levle1_639.jpg',\n",
              " 'levle1_59.jpg',\n",
              " 'levle1_514.jpg',\n",
              " 'levle1_321.jpg',\n",
              " 'levle1_397.jpg',\n",
              " 'levle1_103.jpg',\n",
              " 'levle1_434.jpg',\n",
              " 'levle1_277.jpg',\n",
              " 'levle1_43.jpg',\n",
              " 'levle1_256.jpg',\n",
              " 'levle1_121.jpg',\n",
              " 'levle1_400.jpg',\n",
              " 'levle1_289.jpg',\n",
              " 'levle1_5.jpg',\n",
              " 'levle1_348.jpg',\n",
              " 'levle1_498.jpg',\n",
              " 'levle1_423.jpg',\n",
              " 'levle1_546.jpg',\n",
              " 'levle1_302.jpg',\n",
              " 'levle1_221.jpg',\n",
              " 'levle1_442.jpg',\n",
              " 'levle1_613.jpg',\n",
              " 'levle1_560.jpg',\n",
              " 'levle1_465.jpg',\n",
              " 'levle1_248.jpg',\n",
              " 'levle1_0.jpg',\n",
              " 'levle1_292.jpg',\n",
              " 'levle1_594.jpg',\n",
              " 'levle1_230.jpg',\n",
              " 'levle1_582.jpg',\n",
              " 'levle1_179.jpg',\n",
              " 'levle2_106.jpg',\n",
              " 'levle1_150.jpg',\n",
              " 'levle1_201.jpg',\n",
              " 'levle1_570.jpg',\n",
              " 'levle1_398.jpg',\n",
              " 'levle1_12.jpg',\n",
              " 'levle1_269.jpg',\n",
              " 'levle1_274.jpg',\n",
              " 'levle1_263.jpg',\n",
              " 'levle1_599.jpg',\n",
              " 'levle1_185.jpg',\n",
              " 'levle1_287.jpg',\n",
              " 'levle1_364.jpg',\n",
              " 'levle1_250.jpg',\n",
              " 'levle1_567.jpg',\n",
              " 'levle1_634.jpg',\n",
              " 'levle1_554.jpg',\n",
              " 'levle1_637.jpg',\n",
              " 'levle1_283.jpg',\n",
              " 'levle2_128.jpg',\n",
              " 'levle1_315.jpg',\n",
              " 'levle1_35.jpg',\n",
              " 'levle1_271.jpg',\n",
              " 'levle1_337.jpg',\n",
              " 'levle1_242.jpg',\n",
              " 'levle1_135.jpg',\n",
              " 'levle1_531.jpg',\n",
              " 'levle1_494.jpg',\n",
              " 'levle1_569.jpg',\n",
              " 'levle2_78.jpg',\n",
              " 'levle2_7.jpg',\n",
              " 'levle2_26.jpg',\n",
              " 'levle2_59.jpg',\n",
              " 'levle2_187.jpg',\n",
              " 'levle2_108.jpg',\n",
              " 'levle2_109.jpg',\n",
              " 'levle2_40.jpg',\n",
              " 'levle2_161.jpg',\n",
              " 'levle3_90.jpg',\n",
              " 'levle2_190.jpg',\n",
              " 'levle2_96.jpg',\n",
              " 'levle3_64.jpg',\n",
              " 'levle2_95.jpg',\n",
              " 'levle2_63.jpg',\n",
              " 'levle2_11.jpg',\n",
              " 'levle2_3.jpg',\n",
              " 'levle2_49.jpg',\n",
              " 'levle2_56.jpg',\n",
              " 'levle2_39.jpg',\n",
              " 'levle3_110.jpg',\n",
              " 'levle3_78.jpg',\n",
              " 'levle3_66.jpg',\n",
              " 'levle3_55.jpg',\n",
              " 'levle3_8.jpg',\n",
              " 'levle3_58.jpg',\n",
              " 'levle3_79.jpg',\n",
              " 'levle3_76.jpg',\n",
              " 'levle3_113.jpg']"
            ]
          },
          "metadata": {},
          "execution_count": 93
        }
      ]
    },
    {
      "cell_type": "code",
      "source": [
        "len(overall_images_lesser_counts_50)"
      ],
      "metadata": {
        "colab": {
          "base_uri": "https://localhost:8080/"
        },
        "id": "U8zwM38YTsEA",
        "outputId": "1fbffe96-b2b1-4294-ad80-8985675d9888"
      },
      "execution_count": null,
      "outputs": [
        {
          "output_type": "execute_result",
          "data": {
            "text/plain": [
              "153"
            ]
          },
          "metadata": {},
          "execution_count": 94
        }
      ]
    },
    {
      "cell_type": "code",
      "source": [
        "test_data_df['ypred_!=_ytrue50'] = np.where((test_data_df['class'] != test_data_df['y_preds_values50']), test_data_df['filename'], np.nan)"
      ],
      "metadata": {
        "colab": {
          "base_uri": "https://localhost:8080/"
        },
        "id": "pql79GyQQdbl",
        "outputId": "d02b01b3-1050-49e2-dc1b-86a140d6aafd"
      },
      "execution_count": null,
      "outputs": [
        {
          "output_type": "stream",
          "name": "stderr",
          "text": [
            "/usr/local/lib/python3.7/dist-packages/ipykernel_launcher.py:1: SettingWithCopyWarning: \n",
            "A value is trying to be set on a copy of a slice from a DataFrame.\n",
            "Try using .loc[row_indexer,col_indexer] = value instead\n",
            "\n",
            "See the caveats in the documentation: https://pandas.pydata.org/pandas-docs/stable/user_guide/indexing.html#returning-a-view-versus-a-copy\n",
            "  \"\"\"Entry point for launching an IPython kernel.\n"
          ]
        }
      ]
    },
    {
      "cell_type": "code",
      "source": [
        "images_unequal_predstrue_50 = test_data_df['ypred_!=_ytrue50'].dropna().unique().tolist()\n",
        "images_unequal_predstrue_50"
      ],
      "metadata": {
        "colab": {
          "base_uri": "https://localhost:8080/"
        },
        "id": "EXkrq9RWQvrk",
        "outputId": "ab48919a-a31f-4be0-c94f-7e25fb75d6ef"
      },
      "execution_count": null,
      "outputs": [
        {
          "output_type": "execute_result",
          "data": {
            "text/plain": [
              "['levle0_329.jpg',\n",
              " 'levle0_190.jpg',\n",
              " 'levle0_162.jpg',\n",
              " 'levle0_425.jpg',\n",
              " 'levle0_413.jpg',\n",
              " 'levle0_256.jpg',\n",
              " 'levle0_253.jpg',\n",
              " 'levle0_232.jpg',\n",
              " 'levle0_396.jpg',\n",
              " 'levle0_259.jpg',\n",
              " 'levle0_157.jpg',\n",
              " 'levle1_157.jpg',\n",
              " 'levle1_212.jpg',\n",
              " 'levle1_620.jpg',\n",
              " 'levle1_38.jpg',\n",
              " 'levle1_526.jpg',\n",
              " 'levle1_403.jpg',\n",
              " 'levle1_414.jpg',\n",
              " 'levle1_121.jpg',\n",
              " 'levle1_348.jpg',\n",
              " 'levle1_302.jpg',\n",
              " 'levle1_613.jpg',\n",
              " 'levle1_179.jpg',\n",
              " 'levle1_269.jpg',\n",
              " 'levle1_274.jpg',\n",
              " 'levle1_231.jpg',\n",
              " 'levle1_262.jpg',\n",
              " 'levle1_287.jpg',\n",
              " 'levle1_250.jpg',\n",
              " 'levle1_554.jpg',\n",
              " 'levle1_283.jpg',\n",
              " 'levle1_261.jpg',\n",
              " 'levle1_337.jpg',\n",
              " 'levle1_242.jpg',\n",
              " 'levle1_135.jpg',\n",
              " 'levle1_569.jpg',\n",
              " 'levle1_415.jpg',\n",
              " 'levle2_78.jpg',\n",
              " 'levle2_94.jpg',\n",
              " 'levle2_26.jpg',\n",
              " 'levle2_59.jpg',\n",
              " 'levle2_40.jpg',\n",
              " 'levle2_96.jpg',\n",
              " 'levle3_64.jpg',\n",
              " 'levle2_95.jpg',\n",
              " 'levle2_122.jpg',\n",
              " 'levle2_49.jpg',\n",
              " 'levle2_35.jpg',\n",
              " 'levle2_56.jpg',\n",
              " 'levle2_39.jpg',\n",
              " 'levle2_67.jpg',\n",
              " 'levle3_110.jpg',\n",
              " 'levle3_66.jpg',\n",
              " 'levle3_117.jpg']"
            ]
          },
          "metadata": {},
          "execution_count": 81
        }
      ]
    },
    {
      "cell_type": "code",
      "source": [
        "len(images_unequal_predstrue_50)"
      ],
      "metadata": {
        "colab": {
          "base_uri": "https://localhost:8080/"
        },
        "id": "gOvi1q6XRtDL",
        "outputId": "61c44f0f-9e32-49b6-8a4c-765babbcccc6"
      },
      "execution_count": null,
      "outputs": [
        {
          "output_type": "execute_result",
          "data": {
            "text/plain": [
              "54"
            ]
          },
          "metadata": {},
          "execution_count": 82
        }
      ]
    },
    {
      "cell_type": "markdown",
      "source": [
        "## adding resnet 34 columns"
      ],
      "metadata": {
        "id": "HlqgTDkhMNTC"
      }
    },
    {
      "cell_type": "code",
      "source": [
        "test_data_df['ycount34<true_counts'] = np.where(((test_data_df['counts']>test_data_df['y_preds_counts34']) & (test_data_df['class'] != test_data_df['y_preds_values34'])), test_data_df['filename'], np.nan)"
      ],
      "metadata": {
        "colab": {
          "base_uri": "https://localhost:8080/"
        },
        "id": "3aQ1JffnMTNj",
        "outputId": "205d1ca3-7d29-4d06-af7d-8819def6cce5"
      },
      "execution_count": null,
      "outputs": [
        {
          "output_type": "stream",
          "name": "stderr",
          "text": [
            "/usr/local/lib/python3.7/dist-packages/ipykernel_launcher.py:1: SettingWithCopyWarning: \n",
            "A value is trying to be set on a copy of a slice from a DataFrame.\n",
            "Try using .loc[row_indexer,col_indexer] = value instead\n",
            "\n",
            "See the caveats in the documentation: https://pandas.pydata.org/pandas-docs/stable/user_guide/indexing.html#returning-a-view-versus-a-copy\n",
            "  \"\"\"Entry point for launching an IPython kernel.\n"
          ]
        }
      ]
    },
    {
      "cell_type": "code",
      "source": [
        "images_lesser_counts_34 = test_data_df['ycount34<true_counts'].dropna().unique().tolist()\n",
        "images_lesser_counts_34"
      ],
      "metadata": {
        "colab": {
          "base_uri": "https://localhost:8080/"
        },
        "id": "QH5nNsd5MTE0",
        "outputId": "c640f5f0-89b6-46b5-dc7d-e6f30303d20e"
      },
      "execution_count": null,
      "outputs": [
        {
          "output_type": "execute_result",
          "data": {
            "text/plain": [
              "['levle1_157.jpg',\n",
              " 'levle1_212.jpg',\n",
              " 'levle1_620.jpg',\n",
              " 'levle1_176.jpg',\n",
              " 'levle1_526.jpg',\n",
              " 'levle1_403.jpg',\n",
              " 'levle1_414.jpg',\n",
              " 'levle1_349.jpg',\n",
              " 'levle1_207.jpg',\n",
              " 'levle1_639.jpg',\n",
              " 'levle1_59.jpg',\n",
              " 'levle1_321.jpg',\n",
              " 'levle1_43.jpg',\n",
              " 'levle1_256.jpg',\n",
              " 'levle1_121.jpg',\n",
              " 'levle1_5.jpg',\n",
              " 'levle1_348.jpg',\n",
              " 'levle1_302.jpg',\n",
              " 'levle1_613.jpg',\n",
              " 'levle1_560.jpg',\n",
              " 'levle1_594.jpg',\n",
              " 'levle1_582.jpg',\n",
              " 'levle1_201.jpg',\n",
              " 'levle1_12.jpg',\n",
              " 'levle1_274.jpg',\n",
              " 'levle1_287.jpg',\n",
              " 'levle1_364.jpg',\n",
              " 'levle1_250.jpg',\n",
              " 'levle1_554.jpg',\n",
              " 'levle1_283.jpg',\n",
              " 'levle1_315.jpg',\n",
              " 'levle1_35.jpg',\n",
              " 'levle1_242.jpg',\n",
              " 'levle1_483.jpg',\n",
              " 'levle1_135.jpg',\n",
              " 'levle1_595.jpg',\n",
              " 'levle1_569.jpg',\n",
              " 'levle2_108.jpg',\n",
              " 'levle2_40.jpg',\n",
              " 'levle2_170.jpg',\n",
              " 'levle2_157.jpg',\n",
              " 'levle2_190.jpg',\n",
              " 'levle3_64.jpg',\n",
              " 'levle2_49.jpg',\n",
              " 'levle2_83.jpg',\n",
              " 'levle2_39.jpg',\n",
              " 'levle3_110.jpg',\n",
              " 'levle3_94.jpg',\n",
              " 'levle3_117.jpg',\n",
              " 'levle3_130.jpg',\n",
              " 'levle3_113.jpg']"
            ]
          },
          "metadata": {},
          "execution_count": 61
        }
      ]
    },
    {
      "cell_type": "code",
      "source": [
        "len(images_lesser_counts_34)"
      ],
      "metadata": {
        "colab": {
          "base_uri": "https://localhost:8080/"
        },
        "id": "60PcZY5oPD7B",
        "outputId": "00b787a9-ca59-4934-e4d3-8f053c8d1153"
      },
      "execution_count": null,
      "outputs": [
        {
          "output_type": "execute_result",
          "data": {
            "text/plain": [
              "51"
            ]
          },
          "metadata": {},
          "execution_count": 68
        }
      ]
    },
    {
      "cell_type": "code",
      "source": [
        "test_data_df['count2cls34_!=_class34'] = np.where((test_data_df['y_preds_values34'] != test_data_df['y_preds_count2cls34']), test_data_df['filename'], np.nan)"
      ],
      "metadata": {
        "colab": {
          "base_uri": "https://localhost:8080/"
        },
        "id": "CcV098ucMS7o",
        "outputId": "526eb7a7-970c-436e-ee51-788fe1dd8b56"
      },
      "execution_count": null,
      "outputs": [
        {
          "output_type": "stream",
          "name": "stderr",
          "text": [
            "/usr/local/lib/python3.7/dist-packages/ipykernel_launcher.py:1: SettingWithCopyWarning: \n",
            "A value is trying to be set on a copy of a slice from a DataFrame.\n",
            "Try using .loc[row_indexer,col_indexer] = value instead\n",
            "\n",
            "See the caveats in the documentation: https://pandas.pydata.org/pandas-docs/stable/user_guide/indexing.html#returning-a-view-versus-a-copy\n",
            "  \"\"\"Entry point for launching an IPython kernel.\n"
          ]
        }
      ]
    },
    {
      "cell_type": "code",
      "source": [
        "images_unequal_class_34 = test_data_df['count2cls34_!=_class34'].dropna().unique().tolist()\n",
        "images_unequal_class_34"
      ],
      "metadata": {
        "colab": {
          "base_uri": "https://localhost:8080/"
        },
        "id": "nnOOz7pTMSyM",
        "outputId": "3ff645c9-8af9-4e1d-9394-b0aac82f9157"
      },
      "execution_count": null,
      "outputs": [
        {
          "output_type": "execute_result",
          "data": {
            "text/plain": [
              "['levle0_198.jpg',\n",
              " 'levle0_425.jpg',\n",
              " 'levle0_232.jpg',\n",
              " 'levle1_176.jpg',\n",
              " 'levle1_349.jpg',\n",
              " 'levle1_207.jpg',\n",
              " 'levle1_59.jpg',\n",
              " 'levle1_5.jpg',\n",
              " 'levle1_287.jpg',\n",
              " 'levle1_364.jpg',\n",
              " 'levle1_283.jpg',\n",
              " 'levle1_315.jpg',\n",
              " 'levle1_35.jpg',\n",
              " 'levle1_595.jpg',\n",
              " 'levle2_95.jpg',\n",
              " 'levle2_122.jpg',\n",
              " 'levle2_83.jpg',\n",
              " 'levle3_126.jpg']"
            ]
          },
          "metadata": {},
          "execution_count": 64
        }
      ]
    },
    {
      "cell_type": "code",
      "source": [
        "len(images_unequal_class_34)"
      ],
      "metadata": {
        "colab": {
          "base_uri": "https://localhost:8080/"
        },
        "id": "JifS-gw6PSch",
        "outputId": "534d6db1-e2c6-459b-bb46-3b533674f7bf"
      },
      "execution_count": null,
      "outputs": [
        {
          "output_type": "execute_result",
          "data": {
            "text/plain": [
              "18"
            ]
          },
          "metadata": {},
          "execution_count": 72
        }
      ]
    },
    {
      "cell_type": "code",
      "source": [
        "test_data_df['overall_lessthan_counts_34'] = np.where((test_data_df['counts']>test_data_df['y_preds_counts34']), test_data_df['filename'], np.nan)"
      ],
      "metadata": {
        "colab": {
          "base_uri": "https://localhost:8080/"
        },
        "id": "Mv8cWM04TAFT",
        "outputId": "60a6782b-8130-42b1-ae9d-a8756384182d"
      },
      "execution_count": null,
      "outputs": [
        {
          "output_type": "stream",
          "name": "stderr",
          "text": [
            "/usr/local/lib/python3.7/dist-packages/ipykernel_launcher.py:1: SettingWithCopyWarning: \n",
            "A value is trying to be set on a copy of a slice from a DataFrame.\n",
            "Try using .loc[row_indexer,col_indexer] = value instead\n",
            "\n",
            "See the caveats in the documentation: https://pandas.pydata.org/pandas-docs/stable/user_guide/indexing.html#returning-a-view-versus-a-copy\n",
            "  \"\"\"Entry point for launching an IPython kernel.\n"
          ]
        }
      ]
    },
    {
      "cell_type": "code",
      "source": [
        "overall_images_lesser_counts_34 = test_data_df['overall_lessthan_counts_34'].dropna().unique().tolist()\n",
        "overall_images_lesser_counts_34"
      ],
      "metadata": {
        "colab": {
          "base_uri": "https://localhost:8080/"
        },
        "id": "swP9KN0PTe26",
        "outputId": "dd43b635-0cda-4861-f541-aece15edacd5"
      },
      "execution_count": null,
      "outputs": [
        {
          "output_type": "execute_result",
          "data": {
            "text/plain": [
              "['levle0_483.jpg',\n",
              " 'levle0_110.jpg',\n",
              " 'levle0_49.jpg',\n",
              " 'levle0_216.jpg',\n",
              " 'levle0_172.jpg',\n",
              " 'levle0_160.jpg',\n",
              " 'levle0_516.jpg',\n",
              " 'levle0_81.jpg',\n",
              " 'levle0_306.jpg',\n",
              " 'levle0_20.jpg',\n",
              " 'levle0_454.jpg',\n",
              " 'levle0_229.jpg',\n",
              " 'levle0_36.jpg',\n",
              " 'levle0_87.jpg',\n",
              " 'levle0_17.jpg',\n",
              " 'levle0_441.jpg',\n",
              " 'levle0_518.jpg',\n",
              " 'levle0_422.jpg',\n",
              " 'levle0_48.jpg',\n",
              " 'levle0_158.jpg',\n",
              " 'levle0_367.jpg',\n",
              " 'levle0_195.jpg',\n",
              " 'levle0_116.jpg',\n",
              " 'levle0_244.jpg',\n",
              " 'levle0_76.jpg',\n",
              " 'levle0_530.jpg',\n",
              " 'levle0_268.jpg',\n",
              " 'levle0_526.jpg',\n",
              " 'levle0_462.jpg',\n",
              " 'levle0_127.jpg',\n",
              " 'levle0_239.jpg',\n",
              " 'levle0_139.jpg',\n",
              " 'levle0_260.jpg',\n",
              " 'levle0_463.jpg',\n",
              " 'levle0_99.jpg',\n",
              " 'levle0_474.jpg',\n",
              " 'levle0_305.jpg',\n",
              " 'levle0_391.jpg',\n",
              " 'levle0_185.jpg',\n",
              " 'levle1_379.jpg',\n",
              " 'levle0_443.jpg',\n",
              " 'levle0_524.jpg',\n",
              " 'levle0_24.jpg',\n",
              " 'levle0_246.jpg',\n",
              " 'levle0_146.jpg',\n",
              " 'levle1_279.jpg',\n",
              " 'levle0_514.jpg',\n",
              " 'levle0_230.jpg',\n",
              " 'levle0_92.jpg',\n",
              " 'levle0_424.jpg',\n",
              " 'levle0_55.jpg',\n",
              " 'levle0_316.jpg',\n",
              " 'levle0_399.jpg',\n",
              " 'levle1_559.jpg',\n",
              " 'levle1_157.jpg',\n",
              " 'levle1_612.jpg',\n",
              " 'levle1_297.jpg',\n",
              " 'levle1_590.jpg',\n",
              " 'levle1_212.jpg',\n",
              " 'levle1_620.jpg',\n",
              " 'levle1_114.jpg',\n",
              " 'levle1_176.jpg',\n",
              " 'levle1_526.jpg',\n",
              " 'levle1_403.jpg',\n",
              " 'levle1_414.jpg',\n",
              " 'levle1_411.jpg',\n",
              " 'levle1_349.jpg',\n",
              " 'levle1_619.jpg',\n",
              " 'levle1_207.jpg',\n",
              " 'levle1_214.jpg',\n",
              " 'levle1_187.jpg',\n",
              " 'levle1_55.jpg',\n",
              " 'levle1_639.jpg',\n",
              " 'levle1_59.jpg',\n",
              " 'levle1_514.jpg',\n",
              " 'levle1_321.jpg',\n",
              " 'levle1_54.jpg',\n",
              " 'levle1_397.jpg',\n",
              " 'levle1_103.jpg',\n",
              " 'levle1_434.jpg',\n",
              " 'levle1_277.jpg',\n",
              " 'levle1_43.jpg',\n",
              " 'levle1_256.jpg',\n",
              " 'levle1_121.jpg',\n",
              " 'levle1_366.jpg',\n",
              " 'levle1_400.jpg',\n",
              " 'levle1_147.jpg',\n",
              " 'levle1_138.jpg',\n",
              " 'levle1_600.jpg',\n",
              " 'levle1_289.jpg',\n",
              " 'levle1_5.jpg',\n",
              " 'levle1_348.jpg',\n",
              " 'levle1_498.jpg',\n",
              " 'levle1_423.jpg',\n",
              " 'levle1_546.jpg',\n",
              " 'levle1_302.jpg',\n",
              " 'levle1_331.jpg',\n",
              " 'levle1_221.jpg',\n",
              " 'levle1_442.jpg',\n",
              " 'levle1_613.jpg',\n",
              " 'levle1_560.jpg',\n",
              " 'levle1_465.jpg',\n",
              " 'levle1_248.jpg',\n",
              " 'levle1_0.jpg',\n",
              " 'levle1_292.jpg',\n",
              " 'levle1_594.jpg',\n",
              " 'levle1_230.jpg',\n",
              " 'levle1_582.jpg',\n",
              " 'levle1_154.jpg',\n",
              " 'levle1_179.jpg',\n",
              " 'levle1_294.jpg',\n",
              " 'levle2_106.jpg',\n",
              " 'levle1_150.jpg',\n",
              " 'levle1_201.jpg',\n",
              " 'levle1_570.jpg',\n",
              " 'levle1_398.jpg',\n",
              " 'levle1_12.jpg',\n",
              " 'levle1_269.jpg',\n",
              " 'levle1_274.jpg',\n",
              " 'levle1_599.jpg',\n",
              " 'levle1_185.jpg',\n",
              " 'levle1_287.jpg',\n",
              " 'levle1_364.jpg',\n",
              " 'levle1_250.jpg',\n",
              " 'levle1_372.jpg',\n",
              " 'levle1_567.jpg',\n",
              " 'levle1_634.jpg',\n",
              " 'levle1_578.jpg',\n",
              " 'levle1_554.jpg',\n",
              " 'levle1_203.jpg',\n",
              " 'levle1_637.jpg',\n",
              " 'levle1_283.jpg',\n",
              " 'levle2_128.jpg',\n",
              " 'levle1_315.jpg',\n",
              " 'levle1_35.jpg',\n",
              " 'levle1_271.jpg',\n",
              " 'levle1_337.jpg',\n",
              " 'levle1_242.jpg',\n",
              " 'levle1_483.jpg',\n",
              " 'levle1_135.jpg',\n",
              " 'levle1_595.jpg',\n",
              " 'levle1_531.jpg',\n",
              " 'levle1_494.jpg',\n",
              " 'levle1_569.jpg',\n",
              " 'levle2_7.jpg',\n",
              " 'levle2_26.jpg',\n",
              " 'levle2_187.jpg',\n",
              " 'levle2_176.jpg',\n",
              " 'levle2_108.jpg',\n",
              " 'levle2_109.jpg',\n",
              " 'levle2_40.jpg',\n",
              " 'levle2_161.jpg',\n",
              " 'levle2_170.jpg',\n",
              " 'levle2_157.jpg',\n",
              " 'levle3_90.jpg',\n",
              " 'levle2_190.jpg',\n",
              " 'levle2_137.jpg',\n",
              " 'levle2_163.jpg',\n",
              " 'levle3_64.jpg',\n",
              " 'levle2_63.jpg',\n",
              " 'levle2_11.jpg',\n",
              " 'levle2_3.jpg',\n",
              " 'levle2_144.jpg',\n",
              " 'levle2_72.jpg',\n",
              " 'levle2_49.jpg',\n",
              " 'levle2_83.jpg',\n",
              " 'levle2_35.jpg',\n",
              " 'levle2_10.jpg',\n",
              " 'levle2_56.jpg',\n",
              " 'levle2_164.jpg',\n",
              " 'levle2_39.jpg',\n",
              " 'levle3_110.jpg',\n",
              " 'levle3_78.jpg',\n",
              " 'levle3_18.jpg',\n",
              " 'levle3_94.jpg',\n",
              " 'levle3_55.jpg',\n",
              " 'levle3_117.jpg',\n",
              " 'levle3_92.jpg',\n",
              " 'levle3_8.jpg',\n",
              " 'levle3_58.jpg',\n",
              " 'levle3_130.jpg',\n",
              " 'levle3_79.jpg',\n",
              " 'levle3_49.jpg',\n",
              " 'levle3_5.jpg',\n",
              " 'levle3_113.jpg']"
            ]
          },
          "metadata": {},
          "execution_count": 96
        }
      ]
    },
    {
      "cell_type": "code",
      "source": [
        "len(overall_images_lesser_counts_34)"
      ],
      "metadata": {
        "colab": {
          "base_uri": "https://localhost:8080/"
        },
        "id": "Xp6iRIwwTupI",
        "outputId": "d3c60eca-c7ec-4c02-fdb6-48a04dba3637"
      },
      "execution_count": null,
      "outputs": [
        {
          "output_type": "execute_result",
          "data": {
            "text/plain": [
              "185"
            ]
          },
          "metadata": {},
          "execution_count": 97
        }
      ]
    },
    {
      "cell_type": "code",
      "source": [
        "test_data_df['ypred_!=_ytrue34'] = np.where((test_data_df['class'] != test_data_df['y_preds_values34']), test_data_df['filename'], np.nan)"
      ],
      "metadata": {
        "colab": {
          "base_uri": "https://localhost:8080/"
        },
        "id": "E2DWDjhRQe7W",
        "outputId": "30750691-209d-421a-9d7b-afae0fa82d27"
      },
      "execution_count": null,
      "outputs": [
        {
          "output_type": "stream",
          "name": "stderr",
          "text": [
            "/usr/local/lib/python3.7/dist-packages/ipykernel_launcher.py:1: SettingWithCopyWarning: \n",
            "A value is trying to be set on a copy of a slice from a DataFrame.\n",
            "Try using .loc[row_indexer,col_indexer] = value instead\n",
            "\n",
            "See the caveats in the documentation: https://pandas.pydata.org/pandas-docs/stable/user_guide/indexing.html#returning-a-view-versus-a-copy\n",
            "  \"\"\"Entry point for launching an IPython kernel.\n"
          ]
        }
      ]
    },
    {
      "cell_type": "code",
      "source": [
        "images_unequal_predstrue_34 = test_data_df['ypred_!=_ytrue34'].dropna().unique().tolist()\n",
        "images_unequal_predstrue_34"
      ],
      "metadata": {
        "colab": {
          "base_uri": "https://localhost:8080/"
        },
        "id": "8IKTTrhbQ1yt",
        "outputId": "19936ffb-3340-483c-8eca-0988856767c4"
      },
      "execution_count": null,
      "outputs": [
        {
          "output_type": "execute_result",
          "data": {
            "text/plain": [
              "['levle0_190.jpg',\n",
              " 'levle0_253.jpg',\n",
              " 'levle0_396.jpg',\n",
              " 'levle0_157.jpg',\n",
              " 'levle1_157.jpg',\n",
              " 'levle1_212.jpg',\n",
              " 'levle1_620.jpg',\n",
              " 'levle1_176.jpg',\n",
              " 'levle1_526.jpg',\n",
              " 'levle1_403.jpg',\n",
              " 'levle1_414.jpg',\n",
              " 'levle1_349.jpg',\n",
              " 'levle1_207.jpg',\n",
              " 'levle1_639.jpg',\n",
              " 'levle1_59.jpg',\n",
              " 'levle1_321.jpg',\n",
              " 'levle1_43.jpg',\n",
              " 'levle1_256.jpg',\n",
              " 'levle1_121.jpg',\n",
              " 'levle1_5.jpg',\n",
              " 'levle1_348.jpg',\n",
              " 'levle1_302.jpg',\n",
              " 'levle1_613.jpg',\n",
              " 'levle1_560.jpg',\n",
              " 'levle1_594.jpg',\n",
              " 'levle1_582.jpg',\n",
              " 'levle1_201.jpg',\n",
              " 'levle1_12.jpg',\n",
              " 'levle1_274.jpg',\n",
              " 'levle1_287.jpg',\n",
              " 'levle1_364.jpg',\n",
              " 'levle1_250.jpg',\n",
              " 'levle1_554.jpg',\n",
              " 'levle1_283.jpg',\n",
              " 'levle1_315.jpg',\n",
              " 'levle1_35.jpg',\n",
              " 'levle1_242.jpg',\n",
              " 'levle1_483.jpg',\n",
              " 'levle1_135.jpg',\n",
              " 'levle1_595.jpg',\n",
              " 'levle1_569.jpg',\n",
              " 'levle1_415.jpg',\n",
              " 'levle2_108.jpg',\n",
              " 'levle2_40.jpg',\n",
              " 'levle2_170.jpg',\n",
              " 'levle2_157.jpg',\n",
              " 'levle2_190.jpg',\n",
              " 'levle3_64.jpg',\n",
              " 'levle2_95.jpg',\n",
              " 'levle2_49.jpg',\n",
              " 'levle2_83.jpg',\n",
              " 'levle2_39.jpg',\n",
              " 'levle2_67.jpg',\n",
              " 'levle3_110.jpg',\n",
              " 'levle3_94.jpg',\n",
              " 'levle3_117.jpg',\n",
              " 'levle3_130.jpg',\n",
              " 'levle3_126.jpg',\n",
              " 'levle3_113.jpg']"
            ]
          },
          "metadata": {},
          "execution_count": 84
        }
      ]
    },
    {
      "cell_type": "code",
      "source": [
        "len(images_unequal_predstrue_34)"
      ],
      "metadata": {
        "colab": {
          "base_uri": "https://localhost:8080/"
        },
        "id": "USbra-eSR0ui",
        "outputId": "ef0eb11e-3db5-4366-bdc1-b22ee5355583"
      },
      "execution_count": null,
      "outputs": [
        {
          "output_type": "execute_result",
          "data": {
            "text/plain": [
              "59"
            ]
          },
          "metadata": {},
          "execution_count": 85
        }
      ]
    }
  ]
}